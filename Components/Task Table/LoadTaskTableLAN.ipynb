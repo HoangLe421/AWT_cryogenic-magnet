{
 "cells": [
  {
   "cell_type": "markdown",
   "metadata": {},
   "source": [
    "# Task table example\n",
    "\n",
    "This example shows how to load a task table to the Proteus instrument in PXIe form factor"
   ]
  },
  {
   "cell_type": "code",
   "execution_count": 5,
   "metadata": {},
   "outputs": [],
   "source": [
    "import os\n",
    "import sys\n",
    "srcpath = os.path.realpath('../../SourceFiles')\n",
    "sys.path.append(srcpath)\n",
    "#from teproteus import TEProteusAdmin, TEProteusInst\n",
    "from tevisainst import TEVisaInst"
   ]
  },
  {
   "cell_type": "code",
   "execution_count": 8,
   "metadata": {},
   "outputs": [],
   "source": [
    "%matplotlib notebook\n",
    "import numpy as np\n",
    "import time\n",
    "import ipywidgets as widgets\n",
    "from IPython.core.debugger import set_trace\n",
    "from scipy.signal import chirp, sweep_poly\n",
    "import matplotlib.pyplot as plt"
   ]
  },
  {
   "cell_type": "markdown",
   "metadata": {},
   "source": [
    "## Open communication to instrument with LAN"
   ]
  },
  {
   "cell_type": "code",
   "execution_count": 39,
   "metadata": {},
   "outputs": [
    {
     "name": "stdout",
     "output_type": "stream",
     "text": [
      "connected to: Tabor Electronics,P9484M,000002210203,1.119.0\n"
     ]
    }
   ],
   "source": [
    "# Connect to instrument\n",
    "\n",
    "# Please choose appropriate address:\n",
    "inst_addr = 'TCPIP::192.168.0.62::5025::SOCKET'\n",
    "\n",
    "inst = TEVisaInst(inst_addr)\n",
    "\n",
    "resp = inst.send_scpi_query(\"*IDN?\")\n",
    "print('connected to: ' + resp)\n"
   ]
  },
  {
   "cell_type": "markdown",
   "metadata": {},
   "source": [
    "## Connect to instrument and initialize"
   ]
  },
  {
   "cell_type": "code",
   "execution_count": 15,
   "metadata": {},
   "outputs": [
    {
     "name": "stdout",
     "output_type": "stream",
     "text": [
      "Reset instrument ..\n"
     ]
    },
    {
     "ename": "NameError",
     "evalue": "name 'inst' is not defined",
     "output_type": "error",
     "traceback": [
      "\u001b[31m---------------------------------------------------------------------------\u001b[39m",
      "\u001b[31mNameError\u001b[39m                                 Traceback (most recent call last)",
      "\u001b[36mCell\u001b[39m\u001b[36m \u001b[39m\u001b[32mIn[15]\u001b[39m\u001b[32m, line 8\u001b[39m\n\u001b[32m      5\u001b[39m \u001b[38;5;28mprint\u001b[39m (\u001b[33m'\u001b[39m\u001b[33mReset instrument ..\u001b[39m\u001b[33m'\u001b[39m)\n\u001b[32m      7\u001b[39m \u001b[38;5;66;03m# Reset the instrument\u001b[39;00m\n\u001b[32m----> \u001b[39m\u001b[32m8\u001b[39m \u001b[43minst\u001b[49m.send_scpi_cmd(\u001b[33m'\u001b[39m\u001b[33m*CLS; *RST\u001b[39m\u001b[33m'\u001b[39m)\n\u001b[32m     10\u001b[39m \u001b[38;5;66;03m# Get the DAC mode (8 bits or 16 bits)\u001b[39;00m\n\u001b[32m     11\u001b[39m inst.send_scpi_query(\u001b[33m'\u001b[39m\u001b[33m:SYST:INF:DAC?\u001b[39m\u001b[33m'\u001b[39m)\n",
      "\u001b[31mNameError\u001b[39m: name 'inst' is not defined"
     ]
    }
   ],
   "source": [
    "# The paranoia-level is either \n",
    "# low (0), normal (1) or debug (2)\n",
    "paranoia_level = 2\n",
    "\n",
    "print ('Reset instrument ..')\n",
    "\n",
    "# Reset the instrument\n",
    "inst.send_scpi_cmd('*CLS; *RST')\n",
    "\n",
    "# Get the DAC mode (8 bits or 16 bits)\n",
    "inst.send_scpi_query(':SYST:INF:DAC?')\n",
    "print(resp)\n",
    "\n",
    "if resp == 'M0':\n",
    "    dac_mode = 16 \n",
    "else:\n",
    "    dac_mode = 8\n",
    "    \n",
    "# Get the model:\n",
    "model_name = inst.send_scpi_query('SYST:INF:MODel?')\n",
    "print('Model: {0} '.format(model_name))\n",
    "\n",
    "# Get model dependant parameters:\n",
    "\n",
    "if model_name.startswith('P948'):\n",
    "    bpp = 2\n",
    "    max_dac = 65535\n",
    "    wpt_type = np.uint16\n",
    "    offset_factor = 1\n",
    "elif model_name.startswith('P908'):\n",
    "    bpp = 1\n",
    "    max_dac = 255\n",
    "    wpt_type = np.uint8\n",
    "    offset_factor = 1\n",
    "else:\n",
    "    bpp = 2\n",
    "    max_dac = 65535\n",
    "    wpt_type = np.uint16\n",
    "    offset_factor = 2\n",
    "    \n",
    "half_dac = max_dac / 2.0\n",
    "    \n",
    "\n",
    "print('DAC mode {0} bits'.format(dac_mode))\n",
    "# Get number of channels\n",
    "resp =inst.send_scpi_query(\":INST:CHAN? MAX\")\n",
    "print(\"Number of channels: \" + resp)\n",
    "num_channels = int(resp)\n",
    "\n",
    "# Get the maximal number of segments\n",
    "resp = inst.send_scpi_query(\":TRACe:SELect:SEGMent? MAX\")\n",
    "print(\"Max segment number: \" + resp)\n",
    "max_seg_number = int(resp)\n",
    "\n",
    "# Get the available memory in bytes of wavform-data (per DDR):\n",
    "resp = inst.send_scpi_query(\":TRACe:FREE?\")\n",
    "arbmem_capacity = int(resp)\n",
    "print(\"Available memory per DDR: {0:,} wave-bytes\".format(arbmem_capacity))\n",
    "\n",
    "max_dac = 2 ** dac_mode - 1\n",
    "half_dac = max_dac // 2.0\n",
    "\n",
    "print('Done')"
   ]
  },
  {
   "cell_type": "markdown",
   "metadata": {},
   "source": [
    "## Prepare wave-data and markers-data for 12 segments\n",
    "\n",
    "Prepare three types of waveforms, sine, triangle and square with varying number of cycles. \n",
    "Prepare marker for each waveform.\n"
   ]
  },
  {
   "cell_type": "code",
   "execution_count": 36,
   "metadata": {},
   "outputs": [
    {
     "name": "stdout",
     "output_type": "stream",
     "text": [
      "Done\n"
     ]
    }
   ],
   "source": [
    "#Set number of waveform segments to build\n",
    "NumofSegments = 4\n",
    "\n",
    "waves = [ None for _ in range(NumofSegments)]\n",
    "marks = [ None for _ in range(NumofSegments)]\n",
    "\n",
    "#Set segment length\n",
    "seglen = 2 ** 12 # 1MB\n",
    "num_cycles = [2 ** n for n in range(NumofSegments)]\n",
    "\n",
    "dac_mode =8\n",
    "max_dac = 65535\n",
    "half_dac = max_dac / 2.0\n",
    "\n",
    "if dac_mode == 16:\n",
    "    seg_wave_bytes = seglen * 2\n",
    "else:\n",
    "    seg_wave_bytes = seglen\n",
    "\n",
    "seg_mark_bytes = seg_wave_bytes // 8\n",
    "\n",
    "for ii in range(NumofSegments):\n",
    "    ncycles = num_cycles[ii]\n",
    "    cyclelen = seglen / ncycles\n",
    "    \n",
    "    #Prepare Sine wave\n",
    "    if ii % 3 == 0:\n",
    "        x = np.linspace(start=0, stop=2 * np.pi * ncycles, num=seglen, endpoint=False)\n",
    "        y = (np.sin(x) + 1.0) * half_dac\n",
    "        y = np.round(y)\n",
    "        y = np.clip(y, 0, max_dac)\n",
    "        if dac_mode == 16:\n",
    "            waves[ii] = y.astype(np.uint16)\n",
    "        else:\n",
    "            waves[ii] = y.astype(np.uint8)\n",
    "    \n",
    "    #Prepare triangle waveform\n",
    "    if ii % 3 == 1:\n",
    "        x = np.linspace(start=0, stop=2 * np.pi * ncycles, num=seglen, endpoint=False)\n",
    "        y = np.sin(x)\n",
    "        y = np.arcsin(y)* 2 * half_dac / np.pi + half_dac\n",
    "        y = np.round(y)\n",
    "        y = np.clip(y, 0, max_dac)\n",
    "        if dac_mode == 16:\n",
    "            waves[ii] = y.astype(np.uint16)\n",
    "        else:\n",
    "            waves[ii] = y.astype(np.uint8)\n",
    "    \n",
    "    #Prepare square waveform\n",
    "    if ii % 3 == 2:\n",
    "        x = np.linspace(start=0, stop=seglen, num=seglen, endpoint=False)\n",
    "        y = np.fmod(x, cyclelen)\n",
    "        y = (y <= cyclelen / 2) * max_dac\n",
    "        y = np.round(y)\n",
    "        y = np.clip(y, 0, max_dac)\n",
    "        if dac_mode == 16:\n",
    "            waves[ii] = y.astype(np.uint16)\n",
    "        else:\n",
    "            waves[ii] = y.astype(np.uint8)\n",
    "    \n",
    "    \n",
    "    #Prepare marker\n",
    "    if dac_mode == 16:\n",
    "        cycle_bytes = cyclelen // 4\n",
    "    else:\n",
    "        cycle_bytes = cyclelen // 8\n",
    "    \n",
    "    x = np.linspace(start=0, stop=seg_mark_bytes, num=seg_mark_bytes, endpoint=False)\n",
    "    y = np.fmod(x, cycle_bytes)\n",
    "    y = (y <= cycle_bytes / 2) * 255\n",
    "    y = np.round(y)\n",
    "    y = np.clip(y, 0, 255)\n",
    "    marks[ii] = y.astype(np.uint8)\n",
    "       \n",
    "    del x, y\n",
    "    \n",
    "print('Done')   \n",
    "\n"
   ]
  },
  {
   "cell_type": "code",
   "execution_count": 38,
   "metadata": {},
   "outputs": [
    {
     "data": {
      "text/plain": [
       "[<matplotlib.lines.Line2D at 0x117a28910>]"
      ]
     },
     "execution_count": 38,
     "metadata": {},
     "output_type": "execute_result"
    },
    {
     "data": {
      "image/png": "[encoded data removed]",
      "text/plain": [
       "<Figure size 640x480 with 1 Axes>"
      ]
     },
     "metadata": {},
     "output_type": "display_data"
    },
    {
     "data": {
      "image/png": "[encoded data removed]",
      "text/plain": [
       "<Figure size 640x480 with 1 Axes>"
      ]
     },
     "metadata": {},
     "output_type": "display_data"
    }
   ],
   "source": [
    "%matplotlib inline\n",
    "plt.plot (marks[2])\n",
    "\n",
    "plt.figure()\n",
    "plt.plot (waves[1])"
   ]
  },
  {
   "cell_type": "markdown",
   "metadata": {},
   "source": [
    "## Download wave-data and markers-data to segments"
   ]
  },
  {
   "cell_type": "code",
   "execution_count": 53,
   "metadata": {},
   "outputs": [
    {
     "name": "stdout",
     "output_type": "stream",
     "text": [
      "4\n",
      "Download wave to segment 1 of channel 1\n",
      "Download markers to segment 1 of channel 1\n",
      "0, no error\n",
      "Download wave to segment 2 of channel 1\n",
      "Download markers to segment 2 of channel 1\n",
      "0, no error\n",
      "Download wave to segment 3 of channel 1\n",
      "Download markers to segment 3 of channel 1\n",
      "0, no error\n",
      "Download wave to segment 4 of channel 1\n",
      "Download markers to segment 4 of channel 1\n",
      "0, no error\n",
      "Download wave to segment 1 of channel 2\n",
      "Download markers to segment 1 of channel 2\n",
      "0, no error\n",
      "Download wave to segment 2 of channel 2\n",
      "Download markers to segment 2 of channel 2\n",
      "0, no error\n",
      "Download wave to segment 3 of channel 2\n",
      "Download markers to segment 3 of channel 2\n",
      "0, no error\n",
      "Download wave to segment 4 of channel 2\n",
      "Download markers to segment 4 of channel 2\n",
      "0, no error\n",
      "Download wave to segment 1 of channel 3\n",
      "Download markers to segment 1 of channel 3\n",
      "0, no error\n",
      "Download wave to segment 2 of channel 3\n",
      "Download markers to segment 2 of channel 3\n",
      "0, no error\n",
      "Download wave to segment 3 of channel 3\n",
      "Download markers to segment 3 of channel 3\n",
      "0, no error\n",
      "Download wave to segment 4 of channel 3\n",
      "Download markers to segment 4 of channel 3\n",
      "0, no error\n",
      "Download wave to segment 1 of channel 4\n",
      "Download markers to segment 1 of channel 4\n",
      "0, no error\n",
      "Download wave to segment 2 of channel 4\n",
      "Download markers to segment 2 of channel 4\n",
      "0, no error\n",
      "Download wave to segment 3 of channel 4\n",
      "Download markers to segment 3 of channel 4\n",
      "0, no error\n",
      "Download wave to segment 4 of channel 4\n",
      "Download markers to segment 4 of channel 4\n",
      "0, no error\n",
      "0, no error\n"
     ]
    }
   ],
   "source": [
    "# Download segments\n",
    "\n",
    "# data-type code: 'B' = uint8, 'H' = uint16\n",
    "if dac_mode == 16:\n",
    "    wav_dat_type = 'H'\n",
    "else:\n",
    "    wav_dat_type = 'B'\n",
    "#wav_dat_type = 'H' if dac_mode == 16 else 'B'\n",
    "mrk_dat_type = 'B'\n",
    "\n",
    "ddr = num_channels if dac_mode == 8 else (num_channels/2)\n",
    "print(ddr)\n",
    "\n",
    "for jj in range(int(ddr)):\n",
    "    channb = jj+1\n",
    "    for ii in range(NumofSegments):\n",
    "\n",
    "        segnum = 1 + ii\n",
    "        wav = waves[ii]\n",
    "        mrk = marks[ii]\n",
    "        print('Download wave to segment {0} of channel {1}'.format(segnum, channb))\n",
    "\n",
    "        # Select channel\n",
    "        cmd = ':INST:CHAN {0}'.format(channb)\n",
    "        inst.send_scpi_cmd(cmd)\n",
    "\n",
    "        # Define segment\n",
    "        cmd = ':TRAC:DEF {0}, {1}'.format(segnum, seglen)\n",
    "        inst.send_scpi_cmd(cmd) \n",
    "        \n",
    "        # Select the segment\n",
    "        cmd = ':TRAC:SEL {0}'.format(segnum)\n",
    "        inst.send_scpi_cmd(cmd)\n",
    "        \n",
    "        # Increase the timeout before writing binary-data:\n",
    "        inst.timeout = 30000\n",
    "\n",
    "        # Send the binary-data with *OPC? added to the beginning of its prefix.\n",
    "       # inst.write_binary_data('*OPC?; :TRAC:DATA', wav, datatype=wav_dat_type)\n",
    "        cmd = ':TRAC:DATA {0}'.format(offset * offset_factor)\n",
    "        inst.write_binary_data(cmd, wav)\n",
    "        \n",
    "\n",
    "        # Read the response to the *OPC? query that was added to the prefix of the binary data\n",
    "        #resp = inst.read()\n",
    "\n",
    "        # Set normal timeout\n",
    "        inst.timeout = 10000;\n",
    "\n",
    "        resp = inst.send_scpi_query(':SYST:ERR?')\n",
    "        resp = resp.rstrip()\n",
    "        if not resp.startswith('0'):\n",
    "            print('ERROR: \"{0}\" after writing binary values'.format(resp))\n",
    "\n",
    "        print('Download markers to segment {0} of channel {1}'.format(segnum, channb))\n",
    "\n",
    "        # Increase the timeout before writing binary-data:\n",
    "        inst.timeout = 30000\n",
    "\n",
    "        # Send the binary-data with *OPC? added to the beginning of its prefix.\n",
    "        #inst.write_binary_data('*OPC?; :MARK:DATA', mrk, datatype=mrk_dat_type)\n",
    "        cmd = '*OPC?; :MARK:DATA'\n",
    "        inst.write_binary_data(cmd, mrk)\n",
    "        \n",
    "\n",
    "        #Read the response to the *OPC? query that was added to the prefix of the binary data\n",
    "        #resp = inst.read()\n",
    "\n",
    "        # Set normal timeout\n",
    "        inst.timeout = 10000\n",
    "\n",
    "        resp = inst.send_scpi_query(':SYST:ERR?')\n",
    "        resp = resp.rstrip()\n",
    "        if not resp.startswith('0'):\n",
    "            print('ERROR: \"{0}\" after writing binary values'.format(resp))\n",
    "\n",
    "\n",
    "        # Play the specified segment at the selected channel:\n",
    "        cmd = ':SOUR:FUNC:MODE:SEGM {0}'.format(segnum)\n",
    "        inst.send_scpi_cmd(cmd)    \n",
    "\n",
    "        # Turn on the output of the selected channel:\n",
    "        #cmd = ':OUTP ON'\n",
    "        #pyte.send_cmd(inst, cmd, paranoia_level) \n",
    "\n",
    "        resp = inst.send_scpi_query(':SYST:ERR?')\n",
    "        print(resp)\n",
    "\n",
    "resp = inst.send_scpi_query(':SYST:ERR?')\n",
    "print(resp)\n",
    "\n",
    "del waves\n",
    "del wav\n",
    "\n",
    "\n",
    "        "
   ]
  },
  {
   "cell_type": "code",
   "execution_count": 13,
   "metadata": {},
   "outputs": [
    {
     "name": "stdout",
     "output_type": "stream",
     "text": [
      "[None, None, None, None]\n"
     ]
    }
   ],
   "source": [
    "print((waves))"
   ]
  },
  {
   "cell_type": "markdown",
   "metadata": {},
   "source": [
    "## Load task table"
   ]
  },
  {
   "cell_type": "code",
   "execution_count": 56,
   "metadata": {},
   "outputs": [
    {
     "name": "stdout",
     "output_type": "stream",
     "text": [
      "Downloading Task table of channel 1\n",
      "0, no error\n",
      "Downloading Task table of channel 2\n",
      "0, no error\n",
      "Downloading Task table of channel 3\n",
      "0, no error\n",
      "Downloading Task table of channel 4\n",
      "0, no error\n"
     ]
    }
   ],
   "source": [
    "tasklen = 6\n",
    "\n",
    "for ii in range(num_channels):\n",
    "    channb=ii+1\n",
    "    #Select channel\n",
    "    cmd = ':INST:CHAN {0}'.format(channb)\n",
    "    inst.send_scpi_cmd(cmd)\n",
    "\n",
    "    \n",
    "    cmd = ':TASK:COMP:LENG {0}'.format(tasklen)\n",
    "    inst.send_scpi_cmd(cmd)\n",
    "    \n",
    "    for jj in range(tasklen):\n",
    "        curr_task = jj+1\n",
    "        loop = jj+1\n",
    "        segnb = jj+1\n",
    "        cmd = ':TASK:COMP:SEL {0}'.format(curr_task)\n",
    "        inst.send_scpi_cmd(cmd)\n",
    "       \n",
    "        cmd = ':TASK:COMP:TYPE SING'\n",
    "        inst.send_scpi_cmd(cmd)\n",
    "       \n",
    "        cmd = ':TASK:COMP:LOOP {0}'.format(loop)\n",
    "        inst.send_scpi_cmd(cmd)\n",
    "       \n",
    "        cmd = ':TASK:COMP:SEGM {0}'.format(segnb)\n",
    "        inst.send_scpi_cmd(cmd)\n",
    "       \n",
    "        if curr_task==tasklen:\n",
    "            cmd = ':TASK:COMP:NEXT1 {0}'.format(1)\n",
    "            inst.send_scpi_cmd(cmd)\n",
    "        else:\n",
    "            cmd = ':TASK:COMP:NEXT1 {0}'.format(curr_task+1)\n",
    "            inst.send_scpi_cmd(cmd)\n",
    "    \n",
    "    cmd = ':TASK:COMP:WRIT'\n",
    "    inst.send_scpi_cmd(cmd)\n",
    "    print('Downloading Task table of channel {0}'.format(channb))\n",
    "    \n",
    "    resp = inst.send_scpi_query(':SYST:ERR?')\n",
    "    print(resp)\n",
    "\n",
    " "
   ]
  },
  {
   "cell_type": "markdown",
   "metadata": {},
   "source": [
    "## Switch to Task mode and turn on channel and marker outputs"
   ]
  },
  {
   "cell_type": "code",
   "execution_count": 57,
   "metadata": {},
   "outputs": [],
   "source": [
    "for ii in range(num_channels):\n",
    "    \n",
    "    channb=ii+1\n",
    "    \n",
    "    cmd = ':INST:CHAN {0}'.format(channb)\n",
    "    inst.send_scpi_cmd(cmd)\n",
    "    \n",
    "    cmd = ':OUTP ON'\n",
    "    inst.send_scpi_cmd(cmd)\n",
    "\n",
    "    cmd = 'FUNC:MODE TASK'\n",
    "    inst.send_scpi_cmd(cmd)\n",
    "    \n",
    "    if dac_mode==16:\n",
    "        \n",
    "        for jj in range(2):\n",
    "        \n",
    "            mrk = jj+1\n",
    "        \n",
    "            cmd = ':MARK:SEL {0}'.format(mrk)\n",
    "            inst.send_scpi_cmd(cmd)\n",
    "        \n",
    "            cmd = ':MARK ON'\n",
    "            inst.send_scpi_cmd(cmd)\n",
    "            \n",
    "    elif dac_mode==8:\n",
    "            \n",
    "        for jj in range(4):\n",
    "\n",
    "            mrk = jj+1\n",
    "\n",
    "            cmd = ':MARK:SEL {0}'.format(mrk)\n",
    "            inst.send_scpi_cmd(cmd)\n",
    "\n",
    "            cmd = ':MARK ON'\n",
    "            inst.send_scpi_cmd(cmd) \n",
    "            \n",
    "        "
   ]
  },
  {
   "cell_type": "markdown",
   "metadata": {},
   "source": [
    "## End"
   ]
  },
  {
   "cell_type": "code",
   "execution_count": 58,
   "metadata": {},
   "outputs": [
    {
     "name": "stdout",
     "output_type": "stream",
     "text": [
      "closed session\n"
     ]
    }
   ],
   "source": [
    "# close connection\n",
    "inst.close_instrument()\n",
    "print('closed session')"
   ]
  },
  {
   "cell_type": "code",
   "execution_count": null,
   "metadata": {},
   "outputs": [],
   "source": []
  }
 ],
 "metadata": {
  "kernelspec": {
   "display_name": "AWT-env",
   "language": "python",
   "name": "python3"
  },
  "language_info": {
   "codemirror_mode": {
    "name": "ipython",
    "version": 3
   },
   "file_extension": ".py",
   "mimetype": "text/x-python",
   "name": "python",
   "nbconvert_exporter": "python",
   "pygments_lexer": "ipython3",
   "version": "3.13.2"
  }
 },
 "nbformat": 4,
 "nbformat_minor": 2
}
