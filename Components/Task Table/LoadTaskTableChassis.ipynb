{
 "cells": [
  {
   "cell_type": "markdown",
   "metadata": {},
   "source": [
    "<img align=\"left\" src=\"https://www.taborelec.com/Pictures/logo.png\">"
   ]
  },
  {
   "cell_type": "markdown",
   "metadata": {},
   "source": [
    "# Task table example\n",
    "\n",
    "This example shows how to load a task table to the Proteus instrument in PXIe form factor"
   ]
  },
  {
   "cell_type": "code",
   "execution_count": 6,
   "metadata": {},
   "outputs": [],
   "source": [
    "import os\n",
    "import sys\n",
    "srcpath = os.path.realpath('../../SourceFiles')\n",
    "sys.path.append(srcpath)\n",
    "from teproteus import TEProteusAdmin as TepAdmin\n",
    "from teproteus import TEProteusInst as TepInst"
   ]
  },
  {
   "cell_type": "code",
   "execution_count": 7,
   "metadata": {},
   "outputs": [],
   "source": [
    "%matplotlib notebook\n",
    "import numpy as np\n",
    "import time\n",
    "import ipywidgets as widgets\n",
    "from IPython.core.debugger import set_trace\n",
    "from scipy.signal import chirp, sweep_poly\n",
    "import matplotlib.pyplot as plt"
   ]
  },
  {
   "cell_type": "markdown",
   "metadata": {},
   "source": [
    "## Open communication to instrument in chassis"
   ]
  },
  {
   "cell_type": "code",
   "execution_count": 9,
   "metadata": {},
   "outputs": [
    {
     "name": "stdout",
     "output_type": "stream",
     "text": [
      "process id 1776\n"
     ]
    }
   ],
   "source": [
    "pid = os.getpid()\n",
    "print('process id {0}'.format(pid))\n",
    "\n",
    "# Connect to instrument\n",
    "\n",
    "admin = TepAdmin()\n",
    "    \n",
    "# Get list of available PXI slots\n",
    "slot_ids = admin.get_slot_ids()\n",
    "\n",
    "# Assume that at least one slot was found\n",
    "sid = slot_ids[0]\n",
    "\n",
    " # Open a single-slot instrument:\n",
    "inst = admin.open_instrument(slot_id=sid)\n",
    "\n",
    "inst.default_paranoia_level = 2 # 0, 1 or 2"
   ]
  },
  {
   "cell_type": "markdown",
   "metadata": {},
   "source": [
    "## Connect to instrument and initialize"
   ]
  },
  {
   "cell_type": "code",
   "execution_count": 10,
   "metadata": {},
   "outputs": [
    {
     "name": "stdout",
     "output_type": "stream",
     "text": [
      "Connected to: Tabor Electronics,P2584M,000000000000,0.0.0\n",
      "Model: P2584M\n",
      "M0\n",
      "DAC mode 16 bits\n",
      "0, no error\n",
      "Number of channels: 4\n",
      "Max segment number: 65536\n",
      "Available memory per DDR: 1,065,353,216 wave-bytes\n"
     ]
    }
   ],
   "source": [
    "# Get the instrument's *IDN\n",
    "resp = inst.send_scpi_query('*IDN?')\n",
    "print('Connected to: ' + resp)\n",
    "\n",
    "# Get the model name\n",
    "resp = inst.send_scpi_query(\":SYST:iNF:MODel?\")\n",
    "print(\"Model: \" + resp)\n",
    "\n",
    "# Get the DAC mode (8 bits or 16 bits)\n",
    "resp = inst.send_scpi_query(':SYST:INF:DAC?')\n",
    "print(resp)\n",
    "\n",
    "if resp == 'M0':\n",
    "    dac_mode = 16 \n",
    "else:\n",
    "    dac_mode = 8\n",
    "\n",
    "print('DAC mode {0} bits'.format(dac_mode))\n",
    "\n",
    "\n",
    "if dac_mode == 16:\n",
    "    max_dac = 65535\n",
    "    data_type = np.uint16 \n",
    "else:\n",
    "    max_dac = 255\n",
    "    data_type = np.uint8 \n",
    "    \n",
    "half_dac = max_dac // 2.0\n",
    "\n",
    "# Several initializations ..\n",
    "inst.send_scpi_cmd('*CLS; *RST')\n",
    "inst.send_scpi_cmd(':INST:CHAN 1')\n",
    "inst.send_scpi_cmd(':TRAC:DEL:ALL')\n",
    "resp = inst.send_scpi_query(':SYST:ERR?')\n",
    "print(resp)\n",
    "\n",
    "# Get number of channels\n",
    "resp = inst.send_scpi_query(\":INST:CHAN? MAX\")\n",
    "print(\"Number of channels: \" + resp)\n",
    "num_channels = int(resp)\n",
    "\n",
    "# Get the maximal number of segments\n",
    "resp = inst.send_scpi_query(\":TRACe:SELect:SEGMent? MAX\")\n",
    "print(\"Max segment number: \" + resp)\n",
    "max_seg_number = int(resp)\n",
    "\n",
    "# Get the available memory in bytes of wavform-data (per DDR):\n",
    "resp = inst.send_scpi_query(\":TRACe:FREE?\")\n",
    "arbmem_capacity = int(resp)\n",
    "print(\"Available memory per DDR: {0:,} wave-bytes\".format(arbmem_capacity))\n"
   ]
  },
  {
   "cell_type": "markdown",
   "metadata": {},
   "source": [
    "## Prepare wave-data and markers-data for 12 segments\n",
    "\n",
    "Prepare three types of waveforms, sine, triangle and square with varying number of cycles. \n",
    "Prepare marker for each waveform.\n"
   ]
  },
  {
   "cell_type": "code",
   "execution_count": 11,
   "metadata": {},
   "outputs": [
    {
     "name": "stdout",
     "output_type": "stream",
     "text": [
      "Done\n"
     ]
    }
   ],
   "source": [
    "#Set number of waveform segments to build\n",
    "NumofSegments = 6\n",
    "\n",
    "waves = [ None for _ in range(NumofSegments)]\n",
    "marks = [ None for _ in range(NumofSegments)]\n",
    "\n",
    "#Set segment length\n",
    "seglen = 2 ** 12 # 1MB\n",
    "num_cycles = [2 ** n for n in range(NumofSegments)]\n",
    "\n",
    "if dac_mode == 16:\n",
    "    seg_wave_bytes = seglen * 2\n",
    "else:\n",
    "    seg_wave_bytes = seglen\n",
    "\n",
    "seg_mark_bytes = seg_wave_bytes // 8\n",
    "\n",
    "for ii in range(NumofSegments):\n",
    "    ncycles = num_cycles[ii]\n",
    "    cyclelen = seglen / ncycles\n",
    "    \n",
    "    #Prepare Sine wave\n",
    "    if ii % 3 == 0:\n",
    "        x = np.linspace(start=0, stop=2 * np.pi * ncycles, num=seglen, endpoint=False)\n",
    "        y = (np.sin(x) + 1.0) * half_dac\n",
    "        y = np.round(y)\n",
    "        y = np.clip(y, 0, max_dac)\n",
    "        if dac_mode == 16:\n",
    "            waves[ii] = y.astype(np.uint16)\n",
    "        else:\n",
    "            waves[ii] = y.astype(np.uint8)\n",
    "    \n",
    "    #Prepare triangle waveform\n",
    "    if ii % 3 == 1:\n",
    "        x = np.linspace(start=0, stop=2 * np.pi * ncycles, num=seglen, endpoint=False)\n",
    "        y = np.sin(x)\n",
    "        y = np.arcsin(y)* 2 * half_dac / np.pi + half_dac\n",
    "        y = np.round(y)\n",
    "        y = np.clip(y, 0, max_dac)\n",
    "        if dac_mode == 16:\n",
    "            waves[ii] = y.astype(np.uint16)\n",
    "        else:\n",
    "            waves[ii] = y.astype(np.uint8)\n",
    "    \n",
    "    #Prepare square waveform\n",
    "    if ii % 3 == 2:\n",
    "        x = np.linspace(start=0, stop=seglen, num=seglen, endpoint=False)\n",
    "        y = np.fmod(x, cyclelen)\n",
    "        y = (y <= cyclelen / 2) * max_dac\n",
    "        y = np.round(y)\n",
    "        y = np.clip(y, 0, max_dac)\n",
    "        if dac_mode == 16:\n",
    "            waves[ii] = y.astype(np.uint16)\n",
    "        else:\n",
    "            waves[ii] = y.astype(np.uint8)\n",
    "    \n",
    "    \n",
    "    #Prepare marker\n",
    "    if dac_mode == 16:\n",
    "        cycle_bytes = cyclelen // 4\n",
    "    else:\n",
    "        cycle_bytes = cyclelen // 8\n",
    "    \n",
    "    x = np.linspace(start=0, stop=seg_mark_bytes, num=seg_mark_bytes, endpoint=False)\n",
    "    y = np.fmod(x, cycle_bytes)\n",
    "    y = (y <= cycle_bytes / 2) * 255\n",
    "    y = np.round(y)\n",
    "    y = np.clip(y, 0, 255)\n",
    "    marks[ii] = y.astype(np.uint8)\n",
    "    \n",
    "    #\n",
    "    \n",
    "    del x, y\n",
    "    \n",
    "print('Done')   \n",
    " \n",
    "    \n"
   ]
  },
  {
   "cell_type": "markdown",
   "metadata": {},
   "source": [
    "## Download wave-data and markers-data to segments"
   ]
  },
  {
   "cell_type": "code",
   "execution_count": 12,
   "metadata": {},
   "outputs": [
    {
     "name": "stdout",
     "output_type": "stream",
     "text": [
      "2.0\n",
      "Download wave to segment 1 of channel 1\n",
      "Download markers to segment 1 of channel 1\n",
      "0, no error\n",
      "Download wave to segment 2 of channel 1\n",
      "Download markers to segment 2 of channel 1\n",
      "0, no error\n",
      "Download wave to segment 3 of channel 1\n",
      "Download markers to segment 3 of channel 1\n",
      "0, no error\n",
      "Download wave to segment 4 of channel 1\n",
      "Download markers to segment 4 of channel 1\n",
      "0, no error\n",
      "Download wave to segment 5 of channel 1\n",
      "Download markers to segment 5 of channel 1\n",
      "0, no error\n",
      "Download wave to segment 6 of channel 1\n",
      "Download markers to segment 6 of channel 1\n",
      "0, no error\n",
      "Download wave to segment 1 of channel 3\n",
      "Download markers to segment 1 of channel 3\n",
      "0, no error\n",
      "Download wave to segment 2 of channel 3\n",
      "Download markers to segment 2 of channel 3\n",
      "0, no error\n",
      "Download wave to segment 3 of channel 3\n",
      "Download markers to segment 3 of channel 3\n",
      "0, no error\n",
      "Download wave to segment 4 of channel 3\n",
      "Download markers to segment 4 of channel 3\n",
      "0, no error\n",
      "Download wave to segment 5 of channel 3\n",
      "Download markers to segment 5 of channel 3\n",
      "0, no error\n",
      "Download wave to segment 6 of channel 3\n",
      "Download markers to segment 6 of channel 3\n",
      "0, no error\n",
      "0, no error\n"
     ]
    }
   ],
   "source": [
    "ddr = num_channels if dac_mode == 8 else (num_channels/2)\n",
    "print(ddr)\n",
    "\n",
    "for jj in range(int(ddr)):\n",
    "    \n",
    "    channb = 2*jj+1\n",
    "    \n",
    "    for ii in range(NumofSegments):\n",
    "                \n",
    "        segnum = 1 + ii\n",
    "        wav = waves[ii]\n",
    "        mrk = marks[ii]\n",
    "        print('Download wave to segment {0} of channel {1}'.format(segnum, channb))\n",
    "\n",
    "        # Select channel\n",
    "        cmd = ':INST:CHAN {0}'.format(channb)\n",
    "        inst.send_scpi_cmd(cmd)\n",
    "\n",
    "        # Define segment\n",
    "        cmd = ':TRAC:DEF {0}, {1}'.format(segnum, seglen)\n",
    "        inst.send_scpi_cmd(cmd)  \n",
    "        # Select the segment\n",
    "        cmd = ':TRAC:SEL {0}'.format(segnum)\n",
    "        inst.send_scpi_cmd(cmd)\n",
    "\n",
    "        # Increase the timeout before writing binary-data:\n",
    "        inst.timeout = 30000\n",
    "\n",
    "        # Send the binary-data with *OPC? added to the beginning of its prefix.\n",
    "        inst.write_binary_data(':TRAC:DATA', wav)\n",
    "\n",
    "\n",
    "        # Set normal timeout\n",
    "        inst.timeout = 10000;\n",
    "\n",
    "        resp = inst.send_scpi_query(':SYST:ERR?')\n",
    "        resp = resp.rstrip()\n",
    "        if not resp.startswith('0'):\n",
    "            print('ERROR: \"{0}\" after writing binary values'.format(resp))\n",
    "\n",
    "        print('Download markers to segment {0} of channel {1}'.format(segnum, channb))\n",
    "\n",
    "        # Increase the timeout before writing binary-data:\n",
    "        inst.timeout = 30000\n",
    "\n",
    "        # Send the binary-data with *OPC? added to the beginning of its prefix.\n",
    "        inst.write_binary_data(':MARK:DATA', mrk)\n",
    "\n",
    "        # Read the response to the *OPC? query that was added to the prefix of the binary data\n",
    "        #resp = inst.read()\n",
    "\n",
    "        # Set normal timeout\n",
    "        inst.timeout = 10000\n",
    "\n",
    "        resp = inst.send_scpi_query(':SYST:ERR?')\n",
    "        resp = resp.rstrip()\n",
    "        if not resp.startswith('0'):\n",
    "            print('ERROR: \"{0}\" after writing binary values'.format(resp))\n",
    "\n",
    "\n",
    "        # Play the specified segment at the selected channel:\n",
    "        cmd = ':SOUR:FUNC:MODE:SEGM {0}'.format(segnum)\n",
    "        inst.send_scpi_cmd(cmd)\t    \n",
    "\n",
    "        # Turn on the output of the selected channel:\n",
    "        cmd = ':OUTP ON'\n",
    "        inst.send_scpi_cmd(cmd) \n",
    "\n",
    "        resp = inst.send_scpi_query(':SYST:ERR?')\n",
    "        print(resp)\n",
    "\n",
    "resp = inst.send_scpi_query(':SYST:ERR?')\n",
    "print(resp)\n",
    "\n",
    "del waves\n",
    "del wav\n",
    "\n"
   ]
  },
  {
   "cell_type": "markdown",
   "metadata": {},
   "source": [
    "## Load task table"
   ]
  },
  {
   "cell_type": "code",
   "execution_count": 13,
   "metadata": {},
   "outputs": [
    {
     "name": "stdout",
     "output_type": "stream",
     "text": [
      "Downloading Task table of channel 1\n",
      "0, no error\n",
      "Downloading Task table of channel 2\n",
      "0, no error\n",
      "Downloading Task table of channel 3\n",
      "0, no error\n",
      "Downloading Task table of channel 4\n",
      "0, no error\n"
     ]
    }
   ],
   "source": [
    "tasklen = 6\n",
    "\n",
    "for ii in range(num_channels):\n",
    "    channb=ii+1\n",
    "    #Select channel\n",
    "    cmd = ':INST:CHAN {0}'.format(channb)\n",
    "    inst.send_scpi_cmd(cmd )\n",
    "    \n",
    "    cmd = ':TASK:COMP:LENG {0}'.format(tasklen)\n",
    "    inst.send_scpi_cmd(cmd )\n",
    "    \n",
    "    for jj in range(tasklen):\n",
    "        curr_task = jj+1\n",
    "        loop = jj+1\n",
    "        segnb = jj+1\n",
    "        cmd = ':TASK:COMP:SEL {0}'.format(curr_task)\n",
    "        inst.send_scpi_cmd(cmd )\n",
    "       \n",
    "        cmd = ':TASK:COMP:TYPE SING'\n",
    "        inst.send_scpi_cmd(cmd )\n",
    "       \n",
    "        cmd = ':TASK:COMP:LOOP {0}'.format(loop)\n",
    "        inst.send_scpi_cmd(cmd )\n",
    "       \n",
    "        cmd = ':TASK:COMP:SEGM {0}'.format(segnb)\n",
    "        inst.send_scpi_cmd(cmd )\n",
    "       \n",
    "        if curr_task==tasklen:\n",
    "            cmd = ':TASK:COMP:NEXT1 {0}'.format(1)\n",
    "            inst.send_scpi_cmd(cmd)\n",
    "        else:\n",
    "            cmd = ':TASK:COMP:NEXT1 {0}'.format(curr_task+1)\n",
    "            inst.send_scpi_cmd(cmd )\n",
    "    \n",
    "    cmd = ':TASK:COMP:WRIT'\n",
    "    inst.send_scpi_cmd(cmd )\n",
    "    print('Downloading Task table of channel {0}'.format(channb))\n",
    "    \n",
    "    resp = inst.send_scpi_query(':SYST:ERR?')\n",
    "    print(resp)\n",
    "\n",
    " "
   ]
  },
  {
   "cell_type": "markdown",
   "metadata": {},
   "source": [
    "## Switch to Task mode and turn on channel and marker outputs"
   ]
  },
  {
   "cell_type": "code",
   "execution_count": 14,
   "metadata": {},
   "outputs": [],
   "source": [
    "for ii in range(num_channels):\n",
    "    \n",
    "    channb=ii+1\n",
    "    \n",
    "    cmd = ':INST:CHAN {0}'.format(channb)\n",
    "    inst.send_scpi_cmd(cmd)\n",
    "    \n",
    "    cmd = ':OUTP ON'\n",
    "    inst.send_scpi_cmd(cmd)\n",
    "\n",
    "    cmd = 'FUNC:MODE TASK'\n",
    "    inst.send_scpi_cmd(cmd)\n",
    "    \n",
    "    if dac_mode==16:\n",
    "        \n",
    "        for jj in range(2):\n",
    "        \n",
    "            mrk = jj+1\n",
    "        \n",
    "            cmd = ':MARK:SEL {0}'.format(mrk)\n",
    "            inst.send_scpi_cmd(cmd)\n",
    "        \n",
    "            cmd = ':MARK ON'\n",
    "            inst.send_scpi_cmd(cmd)\n",
    "            \n",
    "    elif dac_mode==8:\n",
    "            \n",
    "        for jj in range(4):\n",
    "\n",
    "            mrk = jj+1\n",
    "\n",
    "            cmd = ':MARK:SEL {0}'.format(mrk)\n",
    "            inst.send_scpi_cmd(cmd)\n",
    "\n",
    "            cmd = ':MARK ON'\n",
    "            inst.send_scpi_cmd(cmd)   \n",
    "            \n",
    "        "
   ]
  },
  {
   "cell_type": "markdown",
   "metadata": {},
   "source": [
    "## End"
   ]
  },
  {
   "cell_type": "code",
   "execution_count": 15,
   "metadata": {},
   "outputs": [
    {
     "data": {
      "text/plain": [
       "0"
      ]
     },
     "execution_count": 15,
     "metadata": {},
     "output_type": "execute_result"
    }
   ],
   "source": [
    "# close connection\n",
    "inst.close_instrument()\n",
    "admin.close_inst_admin()"
   ]
  },
  {
   "cell_type": "code",
   "execution_count": null,
   "metadata": {},
   "outputs": [],
   "source": []
  }
 ],
 "metadata": {
  "kernelspec": {
   "display_name": "Python 3",
   "language": "python",
   "name": "python3"
  },
  "language_info": {
   "codemirror_mode": {
    "name": "ipython",
    "version": 3
   },
   "file_extension": ".py",
   "mimetype": "text/x-python",
   "name": "python",
   "nbconvert_exporter": "python",
   "pygments_lexer": "ipython3",
   "version": "3.8.5"
  }
 },
 "nbformat": 4,
 "nbformat_minor": 4
}
