{
 "cells": [
  {
   "cell_type": "markdown",
   "metadata": {},
   "source": [
    "<img align=\"left\" src=\"https://www.taborelec.com/Pictures/logo.png\">"
   ]
  },
  {
   "cell_type": "code",
   "execution_count": 1,
   "metadata": {},
   "outputs": [],
   "source": [
    "import os\n",
    "import sys\n",
    "srcpath = os.path.realpath('../../SourceFiles')\n",
    "sys.path.append(srcpath)\n",
    "from teproteus import TEProteusAdmin as TepAdmin\n",
    "from teproteus import TEProteusInst as TepInst"
   ]
  },
  {
   "cell_type": "code",
   "execution_count": 2,
   "metadata": {},
   "outputs": [],
   "source": [
    "%matplotlib notebook\n",
    "import numpy as np\n",
    "import time\n",
    "import ipywidgets as widgets\n",
    "from IPython.core.debugger import set_trace\n",
    "from scipy.signal import chirp, sweep_poly\n",
    "import matplotlib.pyplot as plt"
   ]
  },
  {
   "cell_type": "code",
   "execution_count": 3,
   "metadata": {},
   "outputs": [
    {
     "name": "stdout",
     "output_type": "stream",
     "text": [
      "process id 12564\n",
      "Connected to: Tabor Electronics,P9484M,000002210203,1.200.0\n"
     ]
    },
    {
     "data": {
      "text/plain": [
       "0"
      ]
     },
     "execution_count": 3,
     "metadata": {},
     "output_type": "execute_result"
    }
   ],
   "source": [
    "pid = os.getpid()\n",
    "print('process id {0}'.format(pid))\n",
    "\n",
    "# Open a single-slot instrument:    \n",
    "# Use lib_dir_path = None \n",
    "# for default location (C:\\Windows\\System32)\n",
    "\n",
    "lib_dir_path = None\n",
    "\n",
    "admin = TepAdmin(lib_dir_path)\n",
    "\n",
    "# Get list of available PXI slots\n",
    "slot_ids = admin.get_slot_ids()\n",
    "\n",
    "# Assume that at least one slot was found\n",
    "sid = slot_ids[0]\n",
    "\n",
    "inst = admin.open_instrument(slot_id=sid)\n",
    "\n",
    "# Change the default paranoia-level (0, 1, 2)\n",
    "# from normal (1) to high (2). This is good for debugging\n",
    "# because SYSTEM:ERROR is checked after each SCPI command.\n",
    "inst.default_paranoia_level = 2\n",
    "\n",
    "# Send query\n",
    "resp = inst.send_scpi_query('*IDN?')\n",
    "print('Connected to: ' + resp)\n",
    "\n",
    "# Send command\n",
    "inst.send_scpi_cmd(':INST:CHAN 1; :OUTP ON')\n",
    "\n"
   ]
  },
  {
   "cell_type": "code",
   "execution_count": 4,
   "metadata": {},
   "outputs": [
    {
     "name": "stdout",
     "output_type": "stream",
     "text": [
      "Model: P9484M\n",
      "DAC waveform format: 16 bits-per-point\n",
      "Number of channels: 4\n",
      "Max segment number: 65536\n",
      "Available memory per DDR: 4,286,578,688 wave-bytes\n"
     ]
    }
   ],
   "source": [
    "\n",
    "# Get the model name\n",
    "resp = inst.send_scpi_query(\":SYSTem:INFormation:MODel?\")\n",
    "print(\"Model: \" + resp)\n",
    "\n",
    "# Infer the natural DAC waveform format\n",
    "if 'P9082' in resp:\n",
    "    dac_mode = 8\n",
    "else:\n",
    "    dac_mode = 16\n",
    "print(\"DAC waveform format: {0} bits-per-point\".format(dac_mode))\n",
    "\n",
    "# Get number of channels\n",
    "resp = inst.send_scpi_query(\":INST:CHAN? MAX\")\n",
    "print(\"Number of channels: \" + resp)\n",
    "num_channels = int(resp)\n",
    "\n",
    "# Get the maximal number of segments\n",
    "resp = inst.send_scpi_query(\":TRACe:SELect:SEGMent? MAX\")\n",
    "print(\"Max segment number: \" + resp)\n",
    "max_seg_number = int(resp)\n",
    "\n",
    "# Get the available memory in bytes of wavform-data (per DDR):\n",
    "resp = inst.send_scpi_query(\":TRACe:FREE?\")\n",
    "arbmem_capacity = int(resp)\n",
    "print(\"Available memory per DDR: {0:,} wave-bytes\".format(arbmem_capacity))\n",
    "\n",
    "max_dac = 2 ** dac_mode - 1\n",
    "half_dac = max_dac / 2.0\n",
    "    "
   ]
  },
  {
   "cell_type": "code",
   "execution_count": 6,
   "metadata": {},
   "outputs": [
    {
     "name": "stdout",
     "output_type": "stream",
     "text": [
      "Downloaded the wave in \"0.9916163000000005\" seconds\n"
     ]
    },
    {
     "data": {
      "text/plain": [
       "0"
      ]
     },
     "execution_count": 6,
     "metadata": {},
     "output_type": "execute_result"
    }
   ],
   "source": [
    "seglen=102400000\n",
    "num_cycles=2000\n",
    "cyclelen = seglen / num_cycles\n",
    "\n",
    "x = np.linspace(start=0, stop=2 * np.pi * num_cycles, num=seglen, endpoint=False)\n",
    "y = (np.sin(x) + 1.0) * half_dac\n",
    "y = np.round(y)\n",
    "y = np.clip(y, 0, max_dac)\n",
    "if dac_mode == 16:\n",
    "    wave = y.astype(np.uint16)\n",
    "else:\n",
    "    wave = y.astype(np.uint8)\n",
    "        \n",
    "# data-type code: 'B' = uint8, 'H' = uint16\n",
    "data_type = 'H' if dac_mode == 16 else 'B'\n",
    "\n",
    "\n",
    "channb=1\n",
    "segnum=1\n",
    "\n",
    "cmd = ':INST:CHAN {0}'.format(channb)\n",
    "inst.send_scpi_cmd(cmd)\n",
    "\n",
    "cmd = ':TRAC:DEF {0}, {1}'.format(segnum, seglen)\n",
    "inst.send_scpi_cmd(cmd)\n",
    "\n",
    "cmd = ':TRAC:SEL {0}'.format(segnum)\n",
    "inst.send_scpi_cmd(cmd)\n",
    "\n",
    "inst.timeout = 30000\n",
    "\n",
    "#start_time = time.time()\n",
    "tic = time.perf_counter()\n",
    "\n",
    "inst.write_binary_data(':TRAC:DATA', wave)\n",
    "\n",
    "#end_time = time.time()\n",
    "#time_lapsed = end_time - start_time\n",
    "\n",
    "#print('Downloaded the wave in \"{0}\" seconds'.format(time_lapsed))\n",
    "\n",
    "toc = time.perf_counter()\n",
    "timer = float(toc-tic)\n",
    "\n",
    "print('Downloaded the wave in \"{0}\" seconds'.format(timer))\n",
    "\n",
    "\n",
    "resp = inst.send_scpi_query(':SYST:ERR?')\n",
    "resp = resp.rstrip()\n",
    "if not resp.startswith('0'):\n",
    "     print('ERROR: \"{0}\" after writing binary values'.format(resp))\n",
    "\n",
    "cmd = ':SOUR:FUNC:MODE:SEGM {0}'.format(segnum)\n",
    "inst.send_scpi_cmd(cmd)"
   ]
  },
  {
   "cell_type": "code",
   "execution_count": 12,
   "metadata": {},
   "outputs": [
    {
     "data": {
      "text/plain": [
       "0"
      ]
     },
     "execution_count": 12,
     "metadata": {},
     "output_type": "execute_result"
    }
   ],
   "source": [
    "# close connection\n",
    "inst.close_instrument()\n",
    "admin.close_inst_admin()"
   ]
  },
  {
   "cell_type": "code",
   "execution_count": null,
   "metadata": {},
   "outputs": [],
   "source": []
  }
 ],
 "metadata": {
  "kernelspec": {
   "display_name": "Python 3",
   "language": "python",
   "name": "python3"
  },
  "language_info": {
   "codemirror_mode": {
    "name": "ipython",
    "version": 3
   },
   "file_extension": ".py",
   "mimetype": "text/x-python",
   "name": "python",
   "nbconvert_exporter": "python",
   "pygments_lexer": "ipython3",
   "version": "3.8.5"
  }
 },
 "nbformat": 4,
 "nbformat_minor": 4
}
