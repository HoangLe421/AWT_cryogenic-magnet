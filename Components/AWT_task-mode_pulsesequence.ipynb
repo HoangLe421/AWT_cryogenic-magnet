{
 "cells": [
  {
   "cell_type": "code",
   "execution_count": 1,
   "metadata": {},
   "outputs": [],
   "source": [
    "%matplotlib notebook\n",
    "import numpy as np\n",
    "import time\n",
    "import ipywidgets as widgets\n",
    "import matplotlib.pyplot as plt"
   ]
  },
  {
   "cell_type": "code",
   "execution_count": 2,
   "metadata": {},
   "outputs": [],
   "source": [
    "import os\n",
    "import gc\n",
    "import sys\n",
    "srcpath = os.path.realpath('./../SourceFiles')\n",
    "sys.path.append(srcpath)\n",
    "#from teproteus import TEProteusAdmin, TEProteusInst\n",
    "from tevisainst import TEVisaInst\n",
    "from teproteus import TEProteusAdmin as TepAdmin\n",
    "from teproteus import TEProteusInst as TepInst\n",
    "from pulse_sequence import EPR_pulse"
   ]
  },
  {
   "cell_type": "markdown",
   "metadata": {},
   "source": [
    "# Connect to the instrument"
   ]
  },
  {
   "cell_type": "code",
   "execution_count": 3,
   "metadata": {},
   "outputs": [
    {
     "name": "stdout",
     "output_type": "stream",
     "text": [
      "connected to: Tabor Electronics,P2582D,000002248484,1.237.0 --slot#: 5, \n"
     ]
    }
   ],
   "source": [
    "# Connect to instrument\n",
    "\n",
    "# Please choose appropriate address:\n",
    "inst_addr = '169.254.18.140' #Proteus Lan\n",
    "\n",
    "inst = TEVisaInst(inst_addr)\n",
    "\n",
    "resp = inst.send_scpi_query(\"*IDN?\")\n",
    "print('connected to: ' + resp)\n",
    "\n"
   ]
  },
  {
   "cell_type": "markdown",
   "metadata": {},
   "source": [
    "# connect to instrument and initialize"
   ]
  },
  {
   "cell_type": "code",
   "execution_count": 4,
   "metadata": {},
   "outputs": [
    {
     "name": "stdout",
     "output_type": "stream",
     "text": [
      "Reset instrument ..\n",
      "Model: P2582D \n",
      "Available memory per DDR: 4,286,532,544 wave-bytes\n",
      "Done\n"
     ]
    }
   ],
   "source": [
    "# The paranoia-level is either \n",
    "# low (0), normal (1) or debug (2)\n",
    "paranoia_level = 2\n",
    "\n",
    "print ('Reset instrument ..')\n",
    "\n",
    "# Reset the instrument\n",
    "inst.send_scpi_cmd('*CLS; *RST')\n",
    "\n",
    "dac_mode = 16 \n",
    "\n",
    "# Get the model:\n",
    "model_name = inst.send_scpi_query('SYST:INF:MODel?')\n",
    "print('Model: {0} '.format(model_name))\n",
    "\n",
    "# Get model dependant parameters:\n",
    "\n",
    "# scaling\n",
    "max_dac = 2 ** dac_mode - 1\n",
    "half_dac = max_dac / 2.0\n",
    "wpt_type = np.uint16   \n",
    "\n",
    "    \n",
    "# Get the available memory in bytes of wavform-data (per DDR):\n",
    "resp = inst.send_scpi_query(\":TRACe:FREE?\")\n",
    "arbmem_capacity = int(resp)\n",
    "print(\"Available memory per DDR: {0:,} wave-bytes\".format(arbmem_capacity))\n",
    "\n",
    "sampleRateDAC = 2.5E9\n",
    "cmd = ':FREQ:RAST {0}'.format(sampleRateDAC) \n",
    "inst.send_scpi_cmd(cmd)\n",
    "\n",
    "print('Done')"
   ]
  },
  {
   "cell_type": "markdown",
   "metadata": {},
   "source": [
    "# Generate segments with waveform and markers-data for measuring T2 with Phase cycling"
   ]
  },
  {
   "cell_type": "code",
   "execution_count": 5,
   "metadata": {},
   "outputs": [
    {
     "name": "stdout",
     "output_type": "stream",
     "text": [
      "Generated 4 segments: 2 dt × 2 phases\n"
     ]
    }
   ],
   "source": [
    "def generate_T2_segments(pulse_gen, base_pulse1, base_pulse2,\n",
    "                                     fixed_delay=2e-9, dt_list=None, phase_list=None):\n",
    "    \"\"\"\n",
    "    Generate one (t, y) segment per (dt, phase_combo) pair.\n",
    "    \n",
    "    Parameters:\n",
    "        pulse_gen: EPR_pulse instance\n",
    "        base_pulse1, base_pulse2: tuples like ('Gaussian', duration, param_dict) and ('Square', ...)\n",
    "        fixed_delay: base delay in seconds (before adding dt)\n",
    "        dt_list: list or array of dt increments (seconds)\n",
    "        phase_list: list of [phase1, phase2] values\n",
    "\n",
    "    Returns:\n",
    "        segments: list of ((dt, phase_combo), (t, y))\n",
    "    \"\"\"\n",
    "    segments = []\n",
    "\n",
    "    for dt in dt_list:\n",
    "        total_delay = fixed_delay + dt\n",
    "        delay_step = ('delay', total_delay, {'points': int(round(total_delay * pulse_gen.sampling_rate))})\n",
    "\n",
    "        for phase in phase_list:\n",
    "            # Inject phase into pulses\n",
    "            p1 = (base_pulse1[0], base_pulse1[1], {**base_pulse1[2], 'phase': phase[0]})\n",
    "            p2 = (base_pulse2[0], base_pulse2[1], {**base_pulse2[2], 'phase': phase[1]})\n",
    "\n",
    "            steps = [p1, delay_step, p2, delay_step]\n",
    "            t, y = pulse_gen.pulse_sequence(steps)\n",
    "            mrk = pulse_gen.marker(steps)\n",
    "            segments.append(((dt, phase), (t, y, mrk)))\n",
    "\n",
    "    return segments\n",
    "pulse = EPR_pulse(sampling_rate=2.5e9, Vpp=500)\n",
    "\n",
    "# Define pulses\n",
    "P1 = ('Gaussian', 450e-9, {'amplitude': 1, 'f_c': 0e5})\n",
    "P2 = ('Square',   900e-9, {'amplitude': 1, 'f_c': 00e5})\n",
    "\n",
    "# Phase combos\n",
    "phase_combos = [\n",
    "    [0, 0],\n",
    "    [180, 180],\n",
    "]\n",
    "\n",
    "# List of dt values\n",
    "dt_list = np.arange(300e-9, 2000e-9, 1000e-9)  # from 0 ns to 20 ns in 2 ns steps\n",
    "\n",
    "# Generate all segments\n",
    "segments = generate_T2_segments(pulse, P1, P2, fixed_delay=2e-9,\n",
    "                                            dt_list=dt_list, phase_list=phase_combos)\n",
    "\n",
    "print(f\"Generated {len(segments)} segments: {len(dt_list)} dt × {len(phase_combos)} phases\")"
   ]
  },
  {
   "cell_type": "markdown",
   "metadata": {},
   "source": [
    "Plot out some segments to double check "
   ]
  },
  {
   "cell_type": "code",
   "execution_count": 6,
   "metadata": {},
   "outputs": [
    {
     "name": "stdout",
     "output_type": "stream",
     "text": [
      "500\n",
      "500\n",
      "65535\n",
      "500\n",
      "32768\n",
      "500\n",
      "500\n",
      "65535\n",
      "500\n",
      "32768\n"
     ]
    },
    {
     "data": {
      "image/png": "[encoded data removed]",
      "text/plain": [
       "<Figure size 1000x500 with 2 Axes>"
      ]
     },
     "metadata": {},
     "output_type": "display_data"
    }
   ],
   "source": [
    "%matplotlib inline\n",
    "dt_list_sample = dt_list[::]  # Sample every 10th dt for plotting\n",
    "fig, axs = plt.subplots(len(dt_list_sample), 1, figsize=(10, 2.5 * len(dt_list_sample)), sharex=True)\n",
    "for i, dt in enumerate(dt_list_sample):\n",
    "    (t, y, m) = next((v for (k, v) in segments if k[0] == dt and k[1] == [0, 0]))\n",
    "    axs[i].plot(t * 1e9, pulse.DAC_output(np.real(y)), label='Real')\n",
    "    axs[i].set_ylabel(f'dt = {dt*1e9:.1f} ns')\n",
    "    axs[i].legend()\n",
    "    axs[i].grid(True)\n",
    "    print(max(pulse.DAC_output(np.real(y))))\n",
    "    print(min(pulse.DAC_output(np.real(y))))\n",
    "\n",
    "    #print (np.max())\n",
    "axs[-1].set_xlabel('Time (ns)')\n",
    "plt.suptitle('P1-delay+dt-P2-delay+dt (Phase = [0, 0])', fontsize=14)\n",
    "plt.tight_layout(rect=[0, 0, 1, 0.96])\n",
    "plt.show()"
   ]
  },
  {
   "cell_type": "markdown",
   "metadata": {},
   "source": [
    "# Load the T2 sequences into the AWT"
   ]
  },
  {
   "cell_type": "code",
   "execution_count": 7,
   "metadata": {},
   "outputs": [
    {
     "name": "stdout",
     "output_type": "stream",
     "text": [
      "500\n",
      "Downloaded waveform to segment 1 of channel 1\n",
      "Marker Error = \n",
      "0, no error\n",
      "Downloaded marker to segment 1 of channel 1\n",
      "End of CH1, Gen Error = \n",
      "0, no error\n",
      "500\n",
      "Downloaded waveform to segment 2 of channel 1\n",
      "Marker Error = \n",
      "0, no error\n",
      "Downloaded marker to segment 2 of channel 1\n",
      "End of CH1, Gen Error = \n",
      "0, no error\n",
      "500\n",
      "Downloaded waveform to segment 3 of channel 1\n",
      "Marker Error = \n",
      "0, no error\n",
      "Downloaded marker to segment 3 of channel 1\n",
      "End of CH1, Gen Error = \n",
      "0, no error\n",
      "500\n",
      "Downloaded waveform to segment 4 of channel 1\n",
      "Marker Error = \n",
      "0, no error\n",
      "Downloaded marker to segment 4 of channel 1\n",
      "End of CH1, Gen Error = \n",
      "0, no error\n",
      "0, no error\n",
      "downloaded 4 segments\n"
     ]
    }
   ],
   "source": [
    "waves = []\n",
    "for i, ((dt, phase), (t, y, m)) in enumerate(segments):\n",
    "    ichan = 0\n",
    "    ch = 1 # Output channel\n",
    "    segnum = i+1\n",
    "    wav = pulse.DAC_output(np.real(y))\n",
    "    waves.append(wav)\n",
    "    mrk = m *17\n",
    "    mrk = mrk.astype(np.int8)\n",
    "    seglen = len(wav)\n",
    "\n",
    "\n",
    "    # resp = inst.send_scpi_query(':SYST:ERR?')\n",
    "    # resp = resp.rstrip()\n",
    "    # if not resp.startswith('0'):\n",
    "    #     print('ERROR: \"{0}\" before writing binary values'.format(resp))\n",
    "\n",
    "    # Select channel\n",
    "    cmd = ':INST:CHAN {0}'.format(ch)\n",
    "    inst.send_scpi_cmd(cmd)\n",
    "\n",
    "    # Define segment\n",
    "    cmd = ':TRAC:DEF {0}, {1}'.format(segnum, seglen)\n",
    "    inst.send_scpi_cmd(cmd)\n",
    "\n",
    "    # Select the segment\n",
    "    cmd = ':TRAC:SEL {0}'.format(segnum)\n",
    "    inst.send_scpi_cmd(cmd)\n",
    "\n",
    "    # resp = inst.send_scpi_query(':SYST:ERR?')\n",
    "    # resp = resp.rstrip()\n",
    "    # if not resp.startswith('0'):\n",
    "    #     print('ERROR: \"{0}\" before writing binary values'.format(resp))\n",
    "\n",
    "    # increase the timeout before sending binary data\n",
    "    inst.timeout = 3000\n",
    "\n",
    "    # Send the binary-data:\n",
    "    inst.write_binary_data('*OPC?; :TRAC:DATA', wav)\n",
    "    # set normal timeout\n",
    "    inst.timeout = 1000\n",
    "\n",
    "    # Read if there is an error\n",
    "    resp = inst.send_scpi_query(':SYST:ERR?')\n",
    "    resp = resp.rstrip()\n",
    "    if not resp.startswith('0'):\n",
    "        print('ERROR: \"{0}\" after writing binary values'.format(resp))\n",
    "\n",
    "    print('Downloaded waveform to segment {0} of channel {1}'.format(segnum, ch))\n",
    "    resp = inst.send_scpi_query(':SYST:ERR?')\n",
    "    resp = resp.rstrip()\n",
    "    if not resp.startswith('0'):\n",
    "        print('ERROR: \"{0}\" before writing binary values'.format(resp))\n",
    "\n",
    "    # load markers\n",
    "    markerNum = 1\n",
    "    inst.timeout = 30000\n",
    "    inst.write_binary_data('*OPC?; :MARK:DATA', mrk)\n",
    "    inst.timeout = 10000\n",
    "    #Read if there is an error\n",
    "    resp = inst.send_scpi_query(':SYST:ERR?')\n",
    "    resp = resp.rstrip()\n",
    "    if not resp.startswith('0'):\n",
    "        print('ERROR: \"{0}\" after writing binary values'.format(resp))\n",
    "\n",
    "    \n",
    "    # Select the marker to assign to above trace\n",
    "    cmd = ':MARK:SEL {0}'.format(markerNum)\n",
    "    inst.send_scpi_cmd(cmd)\n",
    "\n",
    "    cmd = ':MARK:STAT ON'\n",
    "    inst.send_scpi_cmd(cmd)\n",
    "\n",
    "    \n",
    "    resp = inst.send_scpi_query(':SYST:ERR?')\n",
    "    print(\"Marker Error = \")\n",
    "    print(resp)\n",
    "    print('Downloaded marker to segment {0} of channel {1}'.format(segnum, ch))\n",
    "\n",
    "\n",
    "    cmd = ':FUNC:MODE:SEGM {0}'.format(segnum)\n",
    "    inst.send_scpi_cmd(cmd)\n",
    "\n",
    "    # I dont understand these comments \n",
    "    #cmd = ':VOLT MAX'\n",
    "    #rc = inst.send_scpi_cmd(cmd)\n",
    "\n",
    "    #cmd = ':VOLT:OFFS 0'\n",
    "    #rc = inst.send_scpi_cmd(cmd)\n",
    "\n",
    "    cmd = ':OUTP ON'\n",
    "    rc = inst.send_scpi_cmd(cmd)\n",
    "\n",
    "    resp = inst.send_scpi_query(':SYST:ERR?')\n",
    "\n",
    "    print(\"End of CH1, Gen Error = \")\n",
    "\n",
    "    print(resp)\n",
    "\n",
    "resp = inst.send_scpi_query(':SYST:ERR?')\n",
    "print (resp)\n",
    "print (\"downloaded {} segments\".format(len(segments)))"
   ]
  },
  {
   "cell_type": "code",
   "execution_count": 8,
   "metadata": {},
   "outputs": [
    {
     "name": "stdout",
     "output_type": "stream",
     "text": [
      "int8\n",
      "<class 'numpy.ndarray'>\n",
      "[32403 32398 32392 ... 32768 32768 32768]\n"
     ]
    },
    {
     "data": {
      "text/plain": [
       "[<matplotlib.lines.Line2D at 0x298d6962890>]"
      ]
     },
     "execution_count": 8,
     "metadata": {},
     "output_type": "execute_result"
    },
    {
     "data": {
      "image/png": "[encoded data removed]",
      "text/plain": [
       "<Figure size 640x480 with 1 Axes>"
      ]
     },
     "metadata": {},
     "output_type": "display_data"
    }
   ],
   "source": [
    "print(mrk.dtype)\n",
    "print(type (mrk))\n",
    "print((wav))\n",
    "plt.plot(wav)"
   ]
  },
  {
   "cell_type": "code",
   "execution_count": 9,
   "metadata": {},
   "outputs": [
    {
     "name": "stdout",
     "output_type": "stream",
     "text": [
      "Downloading Task table of channel 1\n",
      "0, no error\n"
     ]
    }
   ],
   "source": [
    "# Load task table \n",
    "tasklen = len(segments)\n",
    "\n",
    "channb= 1 \n",
    "#Select channel\n",
    "cmd = ':INST:CHAN {0}'.format(channb)\n",
    "inst.send_scpi_cmd(cmd)\n",
    "\n",
    "# set task table length \n",
    "cmd = ':TASK:COMP:LENG {0}'.format(tasklen)\n",
    "inst.send_scpi_cmd(cmd)\n",
    "\n",
    "for jj in range(tasklen):\n",
    "    curr_task = jj+1\n",
    "    loop = jj+1\n",
    "    segnb = jj+1\n",
    "    cmd = ':TASK:COMP:SEL {0}'.format(curr_task)\n",
    "    inst.send_scpi_cmd(cmd)\n",
    "    \n",
    "    cmd = ':TASK:COMP:TYPE SING'\n",
    "    inst.send_scpi_cmd(cmd)\n",
    "    \n",
    "    \n",
    "    # cmd = ':TASK:COMP:LOOP {0}'.format(loop)\n",
    "    # inst.send_scpi_cmd(cmd)\n",
    "    if curr_task==1:\n",
    "        cmd = ':TASK:COMP:DTR ON'\n",
    "        inst.send_scpi_cmd(cmd)\n",
    "\n",
    "    cmd = ':TASK:COMP:SEGM {0}'.format(segnb)\n",
    "    inst.send_scpi_cmd(cmd)\n",
    "    \n",
    "    if curr_task==tasklen:\n",
    "        cmd = ':TASK:COMP:NEXT1 {0}'.format(1)\n",
    "        inst.send_scpi_cmd(cmd)\n",
    "    else:\n",
    "        cmd = ':TASK:COMP:NEXT1 {0}'.format(curr_task+1)\n",
    "        inst.send_scpi_cmd(cmd)\n",
    "\n",
    "cmd = ':TASK:COMP:WRIT'\n",
    "inst.send_scpi_cmd(cmd)\n",
    "print('Downloading Task table of channel {0}'.format(channb))\n",
    "\n",
    "resp = inst.send_scpi_query(':SYST:ERR?')\n",
    "print(resp)\n",
    "\n",
    " "
   ]
  },
  {
   "cell_type": "code",
   "execution_count": 10,
   "metadata": {},
   "outputs": [
    {
     "name": "stdout",
     "output_type": "stream",
     "text": [
      "0, no error\n"
     ]
    }
   ],
   "source": [
    "# Switch to the task mode and turn on channel and markers outputs\n",
    "channb=1\n",
    "\n",
    "cmd = ':INST:CHAN {0}'.format(channb)\n",
    "inst.send_scpi_cmd(cmd)\n",
    "\n",
    "cmd = ':OUTP ON'\n",
    "inst.send_scpi_cmd(cmd)\n",
    "\n",
    "cmd = 'FUNC:MODE TASK'\n",
    "inst.send_scpi_cmd(cmd)\n",
    "\n",
    "        \n",
    "for jj in range(4):\n",
    "\n",
    "    m = jj+1\n",
    "\n",
    "    cmd = ':MARK:SEL {0}'.format(m)\n",
    "    inst.send_scpi_cmd(cmd)\n",
    "\n",
    "    cmd = ':MARK ON'\n",
    "    inst.send_scpi_cmd(cmd) \n",
    "    \n",
    "resp = inst.send_scpi_query(':SYST:ERR?')\n",
    "print(resp)"
   ]
  },
  {
   "cell_type": "markdown",
   "metadata": {},
   "source": [
    "# Digitizer"
   ]
  },
  {
   "cell_type": "code",
   "execution_count": 11,
   "metadata": {},
   "outputs": [
    {
     "name": "stdout",
     "output_type": "stream",
     "text": [
      "Waveform Length 28800\n",
      "ADC Clk Freq 2500000000.0\n",
      "Aquisition Length 1.152e-05\n",
      "Dig Frequency = \n",
      "2500000000.000\n",
      "Dig error = \n",
      "0, no error\n",
      "Set complex error = \n",
      "0, no error\n",
      "Total read size in bytes: 57600\n",
      "\n"
     ]
    },
    {
     "data": {
      "image/png": "[encoded data removed]",
      "text/plain": [
       "<Figure size 640x480 with 1 Axes>"
      ]
     },
     "metadata": {},
     "output_type": "display_data"
    }
   ],
   "source": [
    "\n",
    "# reserve waveform mem\n",
    "\n",
    "# Start the digitizer\n",
    "\n",
    "# initialize DAC and take the first capture.\n",
    "\n",
    "#Set number of frames to be collected\n",
    "numframes, framelen = 1, 4800*6# remember multiple of 96\n",
    "totlen = numframes * framelen\n",
    "\n",
    "print('Waveform Length {0}'.format(totlen))\n",
    "\n",
    "wav1 = np.zeros(totlen, dtype=np.uint16)\n",
    "\n",
    "sampleRateADC = sampleRateDAC\n",
    "\n",
    "cmd = ':DIG:MODE DUAL'\n",
    "inst.send_scpi_cmd(cmd)\n",
    "\n",
    "print('ADC Clk Freq {0}'.format(sampleRateADC))\n",
    "cmd = ':DIG:FREQ  {0}'.format(sampleRateADC)\n",
    "inst.send_scpi_cmd(cmd)\n",
    "\n",
    "print('Aquisition Length {0}'.format(framelen/sampleRateADC))\n",
    "\n",
    "resp = inst.send_scpi_query(':DIG:FREQ?')\n",
    "print(\"Dig Frequency = \")\n",
    "print(resp)\n",
    "\n",
    "# Enable capturing data from channel 1\n",
    "cmd = ':DIG:CHAN:SEL 1'\n",
    "inst.send_scpi_cmd(cmd)\n",
    "\n",
    "resp = inst.send_scpi_query(':SYST:ERR?')\n",
    "print(\"Dig error = \")\n",
    "print(resp)\n",
    "'''\n",
    "cmd = ':DIG:DDC:CLKS AWG'\n",
    "rc = inst.send_scpi_cmd(cmd)\n",
    "'''\n",
    "resp = inst.send_scpi_query(':SYST:ERR?')\n",
    "print(\"Set complex error = \")\n",
    "print(resp)\n",
    " \n",
    "cmd = ':DIG:CHAN:STATE ENAB'\n",
    "inst.send_scpi_cmd(cmd)\n",
    "\n",
    "# trigger from the task list\n",
    "cmd = ':DIG:TRIG:SOURCE TASK1'\n",
    "inst.send_scpi_cmd(cmd)\n",
    "\n",
    "cmd = ':DIG:ACQuire:FRAM:DEF {0},{1}'.format(numframes, framelen)\n",
    "inst.send_scpi_cmd(cmd)\n",
    "\n",
    "# Select the frames for the capturing \n",
    "capture_first, capture_count = 1, numframes\n",
    "cmd = ':DIG:ACQuire:FRAM:CAPT {0},{1}'.format(capture_first, capture_count)\n",
    "inst.send_scpi_cmd(cmd)\n",
    "\n",
    "'''\n",
    "% Wait for frame aq to complte\n",
    "for n = 1:250\n",
    "    res = inst.SendScpi(':DIG:ACQ:FRAM:STAT?');\n",
    "    res = convertCharsToStrings(res.RespStr);\n",
    "    res = strtrim(res);\n",
    "    items = split(res, ',');\n",
    "    items = str2double(items);\n",
    "    if length(items) >= 3 && items(2) == 1\n",
    "        break\n",
    "    end\n",
    "    if mod(n, 10) == 0                \n",
    "        fprintf('%d. %s Time:\\n', fix(n / 10), res);                                \n",
    "    end\n",
    "    pause(0.1);\n",
    "end\n",
    "\n",
    "'''\n",
    "################################################################################\n",
    "# Start the digitizer's capturing machine\n",
    "cmd = ':DIG:INIT ON'\n",
    "inst.send_scpi_cmd(cmd)\n",
    "cmd = ':DIG:TRIG:IMM'\n",
    "inst.send_scpi_cmd(cmd)\n",
    "cmd = ':DIG:INIT OFF'\n",
    "inst.send_scpi_cmd(cmd)\n",
    "################################################################################\n",
    "\n",
    "# Choose which frames to read (all in this example)\n",
    "cmd = ':DIG:DATA:SEL ALL'\n",
    "inst.send_scpi_cmd(cmd)\n",
    "\n",
    "# Choose what to read \n",
    "# (only the frame-data without the header in this example)\n",
    "cmd = ':DIG:DATA:TYPE FRAM'\n",
    "inst.send_scpi_cmd(cmd)\n",
    "\n",
    "# Get the total data size (in bytes)\n",
    "resp = inst.send_scpi_query(':DIG:DATA:SIZE?')\n",
    "num_bytes = np.uint32(resp)\n",
    "print('Total read size in bytes: ' + resp)\n",
    "print()\n",
    "\n",
    "# Read the data that was captured by channel 1:\n",
    "inst.send_scpi_cmd(':DIG:CHAN:SEL 1')\n",
    "wavlen = num_bytes // 2\n",
    "rc = inst.read_binary_data(':DIG:DATA:READ?', wav1, wavlen)\n",
    "\n",
    "################################################################################\n",
    "%matplotlib inline\n",
    "plt.plot(wav1)\n",
    "plt.show()\n"
   ]
  }
 ],
 "metadata": {
  "kernelspec": {
   "display_name": "Python 3",
   "language": "python",
   "name": "python3"
  },
  "language_info": {
   "codemirror_mode": {
    "name": "ipython",
    "version": 3
   },
   "file_extension": ".py",
   "mimetype": "text/x-python",
   "name": "python",
   "nbconvert_exporter": "python",
   "pygments_lexer": "ipython3",
   "version": "3.11.9"
  }
 },
 "nbformat": 4,
 "nbformat_minor": 2
}
