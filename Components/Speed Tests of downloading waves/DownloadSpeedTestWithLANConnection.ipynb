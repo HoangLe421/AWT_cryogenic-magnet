{
 "cells": [
  {
   "cell_type": "markdown",
   "metadata": {},
   "source": [
    "<img align=\"left\" src=\"https://www.taborelec.com/Pictures/logo.png\">"
   ]
  },
  {
   "cell_type": "code",
   "execution_count": 1,
   "metadata": {},
   "outputs": [],
   "source": [
    "import os\n",
    "import gc\n",
    "import sys\n",
    "srcpath = os.path.realpath('../../SourceFiles')\n",
    "sys.path.append(srcpath)\n",
    "#from teproteus import TEProteusAdmin, TEProteusInst\n",
    "from tevisainst import TEVisaInst"
   ]
  },
  {
   "cell_type": "code",
   "execution_count": 2,
   "metadata": {},
   "outputs": [],
   "source": [
    "%matplotlib notebook\n",
    "import numpy as np\n",
    "import time\n",
    "import ipywidgets as widgets\n",
    "import matplotlib.pyplot as plt"
   ]
  },
  {
   "cell_type": "code",
   "execution_count": 41,
   "metadata": {},
   "outputs": [
    {
     "name": "stdout",
     "output_type": "stream",
     "text": [
      "connected to: Tabor Electronics,P25812B,000000220726,1.118.0\n"
     ]
    }
   ],
   "source": [
    "# Connect to instrument\n",
    "\n",
    "# Please choose appropriate address:\n",
    "inst_addr = 'TCPIP::192.168.0.101::5025::SOCKET'\n",
    "\n",
    "inst = TEVisaInst(inst_addr)\n",
    "\n",
    "resp = inst.send_scpi_query(\"*IDN?\")\n",
    "print('connected to: ' + resp)"
   ]
  },
  {
   "cell_type": "code",
   "execution_count": 42,
   "metadata": {},
   "outputs": [
    {
     "name": "stdout",
     "output_type": "stream",
     "text": [
      "0, no error\n"
     ]
    }
   ],
   "source": [
    "# Set the default paranoia level. \n",
    "# It controls the default behavior of: inst.send_scpi_cmd(scpi_str).\n",
    "#  - paranoia-level = 0: send scpi_str as is.\n",
    "#  - paranoia-level = 1: append '*OPC?' to scpi_str, and send it as query \n",
    "#  - paranoia-level = 2: append ':SYST:ERR?' to scpi_str, send it as query, and print warnning in case of error.\n",
    "\n",
    "inst.default_paranoia_level = 2 # paranoia-level = 2 (good for debugging)\n",
    "\n",
    "# Reset the instrument\n",
    "inst.send_scpi_cmd('*CLS; *RST')\n",
    "resp = inst.send_scpi_query(\":SYST:ERR?\")\n",
    "print(resp)"
   ]
  },
  {
   "cell_type": "code",
   "execution_count": 43,
   "metadata": {},
   "outputs": [
    {
     "name": "stdout",
     "output_type": "stream",
     "text": [
      "Model: P25812B \n",
      "Number of channels: 12\n",
      "Max segment number: 65536\n",
      "Available memory per DDR: 4,286,578,688 wave-bytes\n",
      "Max segment length: 2,143,289,344\n"
     ]
    }
   ],
   "source": [
    "# Get the model:\n",
    "model_name = inst.send_scpi_query('SYST:INF:MODel?')\n",
    "print('Model: {0} '.format(model_name))\n",
    "\n",
    "# Get model dependant parameters:\n",
    "\n",
    "if model_name.startswith('P948'):\n",
    "    bpp = 2\n",
    "    max_dac = 65535\n",
    "    wpt_type = np.uint16\n",
    "    offset_factor = 1\n",
    "elif model_name.startswith('P908'):\n",
    "    bpp = 1\n",
    "    max_dac = 255\n",
    "    wpt_type = np.uint8\n",
    "    offset_factor = 1\n",
    "else:\n",
    "    bpp = 2\n",
    "    max_dac = 65535\n",
    "    wpt_type = np.uint16\n",
    "    offset_factor = 2\n",
    "    \n",
    "half_dac = max_dac / 2.0\n",
    "\n",
    "# Get number of channels\n",
    "resp = inst.send_scpi_query(\":INST:CHAN? MAX\")\n",
    "print(\"Number of channels: \" + resp)\n",
    "num_channels = int(resp)\n",
    "\n",
    "# Get the maximal number of segments\n",
    "resp = inst.send_scpi_query(\":TRACe:SELect:SEGMent? MAX\")\n",
    "print(\"Max segment number: \" + resp)\n",
    "max_seg_number = int(resp)\n",
    "\n",
    "# Get the available memory in bytes of wavform-data (per DDR):\n",
    "resp = inst.send_scpi_query(\":TRACe:FREE?\")\n",
    "arbmem_capacity = (int(resp) // 64) * 64\n",
    "print(\"Available memory per DDR: {0:,} wave-bytes\".format(arbmem_capacity))\n",
    "\n",
    "max_seglen = arbmem_capacity // bpp\n",
    "print ('Max segment length: {0:,}'.format(max_seglen))\n",
    "\n"
   ]
  },
  {
   "cell_type": "code",
   "execution_count": 44,
   "metadata": {},
   "outputs": [],
   "source": [
    "seglen=202400000\n",
    "num_cycles=2000\n",
    "cyclelen = seglen / num_cycles\n",
    "\n",
    "#sin_wav=pyte.build_sine_wave(cycle_len,num_cycles)\n",
    "x = np.linspace(start=0, stop=2 * np.pi * num_cycles, num=seglen, endpoint=False)\n",
    "y = (np.sin(x) + 1.0) * half_dac\n",
    "del x\n",
    "\n",
    "y = np.round(y)\n",
    "y = np.clip(y, 0, max_dac)\n",
    "\n",
    "wave = y.astype(wpt_type)\n",
    "del y\n",
    "\n"
   ]
  },
  {
   "cell_type": "code",
   "execution_count": 45,
   "metadata": {},
   "outputs": [
    {
     "name": "stdout",
     "output_type": "stream",
     "text": [
      "Downloaded the wave in \"24.326041799999985\" seconds\n",
      "\n",
      "System error: 0, no error\n"
     ]
    }
   ],
   "source": [
    "# data-type code: 'B' = uint8, 'H' = uint16\n",
    "#data_type = 'H' if wpt_type == np.uint16 else 'B'\n",
    "\n",
    "\n",
    "channb=1\n",
    "segnum=1\n",
    "\n",
    "\n",
    "cmd = ':INST:CHAN {0}'.format(channb)\n",
    "inst.send_scpi_cmd(cmd)\n",
    "    \n",
    "cmd = ':TRAC:DEF {0}, {1}'.format(segnum, seglen)\n",
    "inst.send_scpi_cmd(cmd)\n",
    "\n",
    "cmd = ':TRAC:SEL {0}'.format(segnum)\n",
    "inst.send_scpi_cmd(cmd)\n",
    "\n",
    "# Write the data in chunks of 64M points\n",
    "# This may take time please wait...\n",
    "\n",
    "chunk = 64 * 1024 * 1024\n",
    "offset = 0\n",
    "\n",
    "#start_time = time.time()\n",
    "tic = time.perf_counter()\n",
    "\n",
    "while offset < seglen:\n",
    "    \n",
    "    chunk = min(chunk, seglen - offset)\n",
    "    \n",
    "    cmd = ':TRAC:DATA {0}'.format(offset * offset_factor)\n",
    "    inst.write_binary_data(cmd, wave[offset:offset + chunk])\n",
    "    \n",
    "    offset = offset + chunk\n",
    "\n",
    "#inst.write_binary_values('*OPC?; :TRAC:DATA', wave, datatype=data_type)\n",
    "#end_time = time.time()\n",
    "#time_lapsed = end_time - start_time\n",
    "\n",
    "#print('Downloaded the wave in \"{0}\" seconds'.format(time_lapsed))\n",
    "\n",
    "toc = time.perf_counter()\n",
    "timer = float(toc-tic)\n",
    "\n",
    "print('Downloaded the wave in \"{0}\" seconds\\n'.format(timer))\n",
    "\n",
    "#resp = inst.read();\n",
    "#inst.timeout = 10000;\n",
    "\n",
    "# Play the specified segment at the selected channel:\n",
    "cmd = ':SOUR:FUNC:MODE:SEGM {0}'.format(segnum)\n",
    "inst.send_scpi_cmd(cmd)\n",
    "\n",
    "# Turn on the output of the selected channel:\n",
    "inst.send_scpi_cmd(':OUTP ON')\n",
    "    \n",
    "resp = inst.send_scpi_query(':SYST:ERR?')\n",
    "print('System error: ' + resp)\n",
    "\n",
    "  "
   ]
  },
  {
   "cell_type": "code",
   "execution_count": 30,
   "metadata": {},
   "outputs": [],
   "source": [
    "del wave\n",
    "\n",
    "# close connection\n",
    "inst.close_instrument()"
   ]
  },
  {
   "cell_type": "code",
   "execution_count": null,
   "metadata": {},
   "outputs": [],
   "source": []
  },
  {
   "cell_type": "code",
   "execution_count": null,
   "metadata": {},
   "outputs": [],
   "source": []
  }
 ],
 "metadata": {
  "kernelspec": {
   "display_name": "Python 3",
   "language": "python",
   "name": "python3"
  },
  "language_info": {
   "codemirror_mode": {
    "name": "ipython",
    "version": 3
   },
   "file_extension": ".py",
   "mimetype": "text/x-python",
   "name": "python",
   "nbconvert_exporter": "python",
   "pygments_lexer": "ipython3",
   "version": "3.8.5"
  }
 },
 "nbformat": 4,
 "nbformat_minor": 2
}
