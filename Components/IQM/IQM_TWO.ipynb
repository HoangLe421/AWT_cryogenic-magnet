{
 "cells": [
  {
   "cell_type": "markdown",
   "metadata": {},
   "source": [
    "<img align=\"left\" src=\"https://www.taborelec.com/Pictures/logo.png\">"
   ]
  },
  {
   "cell_type": "markdown",
   "metadata": {},
   "source": [
    "# IQM TWO\n",
    "\n",
    "This script will test \"IQM TWO\" mode.in this mode two segments are generated : sin and cos.\n",
    "\n",
    "When a sin signal is modulated with a cos signal, only one sideband signal relative to the LO signal\n",
    "\n",
    "Should be present.\n",
    "\n",
    "Two sets of IQ are interleaved to one segment outputs in CH1.\n",
    "\n",
    "Connect channel 1 to a spectrum anlayzer at center frequency of 100MHz."
   ]
  },
  {
   "cell_type": "code",
   "execution_count": 1,
   "metadata": {},
   "outputs": [],
   "source": [
    "import os\n",
    "import sys\n",
    "srcpath = os.path.realpath('../../SourceFiles')\n",
    "sys.path.append(srcpath)\n",
    "from teproteus import TEProteusAdmin as TepAdmin\n",
    "from teproteus import TEProteusInst as TepInst"
   ]
  },
  {
   "cell_type": "code",
   "execution_count": 2,
   "metadata": {},
   "outputs": [],
   "source": [
    "%matplotlib notebook\n",
    "import numpy as np\n",
    "import time\n",
    "import ipywidgets as widgets\n",
    "from IPython.core.debugger import set_trace\n",
    "from scipy.signal import chirp, sweep_poly\n",
    "import matplotlib.pyplot as plt"
   ]
  },
  {
   "cell_type": "code",
   "execution_count": 3,
   "metadata": {},
   "outputs": [
    {
     "name": "stdout",
     "output_type": "stream",
     "text": [
      "process id 13520\n"
     ]
    }
   ],
   "source": [
    "pid = os.getpid()\n",
    "print('process id {0}'.format(pid))\n",
    "\n",
    "# Connect to instrument\n",
    "\n",
    "Debug = False\n",
    "\n",
    "# Use lib_dir_path = None \n",
    "# for default location (C:\\Windows\\System32)\n",
    "# Change it only if you know what you are doing\n",
    "\n",
    "lib_dir_path = None\n",
    "#lib_dir_path = r'D:\\Projects\\ProteusAwg.Nitzan\\x64\\Debug'\n",
    "\n",
    "\n",
    "admin = TepAdmin(lib_dir_path)\n",
    "\n",
    "slots = admin.get_slot_ids()\n",
    "sid = slots[0]\n",
    "assert(sid < 255)\n",
    "\n",
    "inst = admin.open_instrument(slot_id=sid)\n",
    "inst.default_paranoia_level = 2 # 0, 1 or 2"
   ]
  },
  {
   "cell_type": "code",
   "execution_count": 4,
   "metadata": {},
   "outputs": [
    {
     "name": "stdout",
     "output_type": "stream",
     "text": [
      "Tabor Electronics,P9082M,000000000000,1.114.0\n",
      "0, no error\n"
     ]
    }
   ],
   "source": [
    "# Get the instrument's *IDN\n",
    "resp = inst.send_scpi_query('*IDN?')\n",
    "print(resp)\n",
    "\n",
    "# all IQM modes are in 16bit mode\n",
    "dac_mode = 16\n",
    "\n",
    "\n",
    "if dac_mode == 16:\n",
    "    max_dac = 65535\n",
    "    data_type = np.uint16 \n",
    "else:\n",
    "    max_dac = 255\n",
    "    data_type = np.uint8 \n",
    "    \n",
    "half_dac = max_dac / 2.0\n",
    "\n",
    "# Several initializations ..\n",
    "inst.send_scpi_cmd('*CLS; *RST')\n",
    "inst.send_scpi_cmd(':INST:CHAN 1')\n",
    "inst.send_scpi_cmd(':TRAC:DEL:ALL')\n",
    "resp = inst.send_scpi_query(':SYST:ERR?')\n",
    "print(resp)"
   ]
  },
  {
   "cell_type": "markdown",
   "metadata": {},
   "source": [
    "## Configure Generator"
   ]
  },
  {
   "cell_type": "code",
   "execution_count": 5,
   "metadata": {},
   "outputs": [
    {
     "name": "stdout",
     "output_type": "stream",
     "text": [
      "0, no error\n"
     ]
    }
   ],
   "source": [
    "# set Proteus to interpolation X1. this will move the module to 16bit mode if it was in 8.\n",
    "inst.send_scpi_cmd(':SOUR:INT X1')\n",
    "resp = inst.send_scpi_query(':SYST:ERR?')\n",
    "print(resp)"
   ]
  },
  {
   "cell_type": "markdown",
   "metadata": {},
   "source": [
    "#### Create Two segments"
   ]
  },
  {
   "cell_type": "code",
   "execution_count": 6,
   "metadata": {},
   "outputs": [
    {
     "name": "stdout",
     "output_type": "stream",
     "text": [
      "0, no error\n"
     ]
    }
   ],
   "source": [
    "# Build two AWG segment one for I and one for Q\n",
    "\n",
    "cycleLen = 256\n",
    "numCycles = 1\n",
    "segLen = cycleLen * numCycles\n",
    "\n",
    "# Build waveform (cosine wave)\n",
    "x = np.linspace(\n",
    "    start=0, stop=2 * np.pi * numCycles, num=segLen, endpoint=False)\n",
    "\n",
    "I = (np.cos(x) + 1.0) * half_dac\n",
    "I = np.round(I)\n",
    "I = np.clip(I, 0, max_dac)\n",
    "I = I.astype(data_type)\n",
    "\n",
    "\n",
    "# Build waveform (sine wave)\n",
    "x = np.linspace(\n",
    "    start=0, stop=2 * np.pi * numCycles, num=segLen, endpoint=False)\n",
    "\n",
    "Q = (np.sin(x) + 1.0) * half_dac\n",
    "Q = np.round(Q)\n",
    "Q = np.clip(Q, 0, max_dac)\n",
    "Q = Q.astype(data_type)\n",
    "\n",
    "# create an interleaved signal in the length of 8xseglen\n",
    "# each cell represent byte of half sample\n",
    "\n",
    "s = np.full((8*segLen,1),0)\n",
    "for i in range(segLen):\n",
    "    w1h,w1l = divmod(I[i],256)\n",
    "    w2h,w2l = divmod(Q[i],256)\n",
    "    w3h,w3l = divmod(Q[i],256)\n",
    "    w4h,w4l = divmod(I[i],256)\n",
    "    s[0+i*8] = w1h\n",
    "    s[1+i*8] = w2h\n",
    "    s[2+i*8] = w3h\n",
    "    s[3+i*8] = w4h\n",
    "    s[4+i*8] = w1l\n",
    "    s[5+i*8] = w2l\n",
    "    s[6+i*8] = w3l\n",
    "    s[7+i*8] = w4l\n",
    "\n",
    "# unify the byte signal to a 16bit signal\n",
    "\n",
    "w = np.full((4*segLen,1),0)\n",
    "for i in range(4*segLen):\n",
    "    w[i] = s[i*2]*256 + s[i*2+1]\n",
    "\n",
    "w = w.astype(data_type)\n",
    "\n",
    "# download it to segment 1 of channel 1\n",
    "inst.send_scpi_cmd(':INST:CHAN 1')\n",
    "inst.send_scpi_cmd(':TRAC:DEF 1,' + str(4*segLen))\n",
    "inst.send_scpi_cmd(':TRAC:SEL 1')\n",
    "# download the waveform to the selected segment\n",
    "inst.write_binary_data(':TRAC:DATA', w)\n",
    "resp = inst.send_scpi_query(':SYST:ERR?')\n",
    "print(resp)"
   ]
  },
  {
   "cell_type": "markdown",
   "metadata": {},
   "source": [
    "#### DAC clock and output"
   ]
  },
  {
   "cell_type": "code",
   "execution_count": 7,
   "metadata": {},
   "outputs": [
    {
     "name": "stdout",
     "output_type": "stream",
     "text": [
      "0, no error\n",
      "0, no error\n"
     ]
    }
   ],
   "source": [
    "# AWG Channl 1 (output) should be connected to scope input 1\n",
    "inst.send_scpi_cmd(':INST:CHAN 1')\n",
    "inst.send_scpi_cmd(':SOUR:FUNC:MODE:SEGM 1')\n",
    "inst.send_scpi_cmd(':OUTP ON')\n",
    "resp = inst.send_scpi_query(':SYST:ERR?')\n",
    "print(resp)\n",
    "\n",
    "# change DAC clock to 2500MHz\n",
    "inst.send_scpi_cmd(':SOUR:FREQ 2.5e9')\n",
    "resp = inst.send_scpi_query(':SYST:ERR?')\n",
    "print(resp)"
   ]
  },
  {
   "cell_type": "markdown",
   "metadata": {},
   "source": [
    "#### at this point we should see a sin wave and a cos wave on the scope\n",
    "\n",
    "#### switching to modulation mode"
   ]
  },
  {
   "cell_type": "code",
   "execution_count": 8,
   "metadata": {},
   "outputs": [
    {
     "name": "stdout",
     "output_type": "stream",
     "text": [
      "0, no error\n",
      "0, no error\n",
      "0, no error\n",
      "0, no error\n"
     ]
    }
   ],
   "source": [
    "# set Proteus to interpolation X8.\n",
    "inst.send_scpi_cmd(':SOUR:INT X8')\n",
    "resp = inst.send_scpi_query(':SYST:ERR?')\n",
    "print(resp)\n",
    "\n",
    "# set NCOab frequency\n",
    "inst.send_scpi_cmd(':INST:CHAN 1')\n",
    "inst.send_scpi_cmd(':SOUR:CFR 100.0e6')\n",
    "resp = inst.send_scpi_query(':SYST:ERR?')\n",
    "print(resp)\n",
    "\n",
    "# set modulation to HALF\n",
    "inst.send_scpi_cmd(':SOUR:IQM TWO')\n",
    "resp = inst.send_scpi_query(':SYST:ERR?')\n",
    "print(resp)\n",
    "\n",
    "# chande DAC clock to 5000Hz\n",
    "inst.send_scpi_cmd(':SOUR:FREQ 5.0e9')\n",
    "resp = inst.send_scpi_query(':SYST:ERR?')\n",
    "print(resp)\n"
   ]
  },
  {
   "cell_type": "code",
   "execution_count": 9,
   "metadata": {},
   "outputs": [
    {
     "data": {
      "text/plain": [
       "0"
      ]
     },
     "execution_count": 9,
     "metadata": {},
     "output_type": "execute_result"
    }
   ],
   "source": [
    "inst.send_scpi_cmd(':INST:CHAN 1', paranoia_level=0)"
   ]
  },
  {
   "cell_type": "markdown",
   "metadata": {},
   "source": [
    "## read debug registers"
   ]
  },
  {
   "cell_type": "code",
   "execution_count": 10,
   "metadata": {},
   "outputs": [],
   "source": [
    "import tempfile\n",
    "import webbrowser\n",
    "\n",
    "if Debug == True :\n",
    "    channb = 1\n",
    "    cmd = ':INST:CHAN {0}; :SYST:INF:REG?'.format(channb)\n",
    "    html_str = inst.send_scpi_query(cmd, max_resp_len=200000)\n",
    "    #print(html_str)\n",
    "    with tempfile.NamedTemporaryFile('w', delete=False, suffix='.html') as f:\n",
    "        url = 'file://' + f.name\n",
    "        f.write(html_str)\n",
    "    webbrowser.open(url)"
   ]
  },
  {
   "cell_type": "markdown",
   "metadata": {},
   "source": [
    "## End"
   ]
  },
  {
   "cell_type": "code",
   "execution_count": 11,
   "metadata": {},
   "outputs": [
    {
     "data": {
      "text/plain": [
       "0"
      ]
     },
     "execution_count": 11,
     "metadata": {},
     "output_type": "execute_result"
    }
   ],
   "source": [
    "# close connection\n",
    "inst.close_instrument()\n",
    "admin.close_inst_admin()"
   ]
  },
  {
   "cell_type": "code",
   "execution_count": null,
   "metadata": {},
   "outputs": [],
   "source": []
  }
 ],
 "metadata": {
  "kernelspec": {
   "display_name": "Python 3",
   "language": "python",
   "name": "python3"
  },
  "language_info": {
   "codemirror_mode": {
    "name": "ipython",
    "version": 3
   },
   "file_extension": ".py",
   "mimetype": "text/x-python",
   "name": "python",
   "nbconvert_exporter": "python",
   "pygments_lexer": "ipython3",
   "version": "3.8.5"
  }
 },
 "nbformat": 4,
 "nbformat_minor": 2
}
