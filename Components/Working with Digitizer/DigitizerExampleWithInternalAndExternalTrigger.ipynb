{
 "cells": [
  {
   "cell_type": "markdown",
   "metadata": {},
   "source": [
    "<img align=\"left\" src=\"https://www.taborelec.com/Pictures/logo.png\">"
   ]
  },
  {
   "cell_type": "markdown",
   "metadata": {},
   "source": [
    "# Digitizer Example"
   ]
  },
  {
   "cell_type": "code",
   "execution_count": null,
   "metadata": {},
   "outputs": [],
   "source": [
    "import os\n",
    "import sys\n",
    "srcpath = os.path.realpath('../../SourceFiles')\n",
    "sys.path.append(srcpath)\n",
    "from teproteus import TEProteusAdmin as TepAdmin\n",
    "from teproteus import TEProteusInst as TepInst"
   ]
  },
  {
   "cell_type": "code",
   "execution_count": null,
   "metadata": {
    "ExecuteTime": {
     "end_time": "2020-12-27T13:45:39.587486Z",
     "start_time": "2020-12-27T13:45:39.576516Z"
    }
   },
   "outputs": [],
   "source": [
    "%matplotlib notebook\n",
    "import numpy as np\n",
    "import time\n",
    "import ipywidgets as widgets\n",
    "from IPython.core.debugger import set_trace\n",
    "from scipy.signal import chirp, sweep_poly\n",
    "import matplotlib.pyplot as plt"
   ]
  },
  {
   "cell_type": "code",
   "execution_count": null,
   "metadata": {
    "ExecuteTime": {
     "end_time": "2020-12-27T13:45:42.815227Z",
     "start_time": "2020-12-27T13:45:42.750034Z"
    }
   },
   "outputs": [],
   "source": [
    "# Connect to instrument\n",
    "\n",
    "admin = TepAdmin()\n",
    "    \n",
    "# Get list of available PXI slots\n",
    "slot_ids = admin.get_slot_ids()\n",
    "\n",
    "# Assume that at least one slot was found\n",
    "sid = slot_ids[0]\n",
    "\n",
    " # Open a single-slot instrument:\n",
    "inst = admin.open_instrument(slot_id=sid)"
   ]
  },
  {
   "cell_type": "code",
   "execution_count": null,
   "metadata": {},
   "outputs": [],
   "source": [
    "# Get the instrument's *IDN\n",
    "resp = inst.send_scpi_query('*IDN?')\n",
    "print('Connected to: ' + resp)\n",
    "\n",
    "# Get the model name\n",
    "resp = inst.send_scpi_query(\":SYST:iNF:MODel?\")\n",
    "print(\"Model: \" + resp)\n",
    "\n",
    "# Infer the natural DAC waveform format\n",
    "if 'P9082' in resp:\n",
    "    dac_mode = 8\n",
    "else:\n",
    "    dac_mode = 16\n",
    "print(\"DAC waveform format: {0} bits-per-point\".format(dac_mode))\n",
    "\n",
    "if dac_mode == 16:\n",
    "    max_dac = 65535\n",
    "    data_type = np.uint16 \n",
    "else:\n",
    "    max_dac = 255\n",
    "    data_type = np.uint8 \n",
    "    \n",
    "half_dac = max_dac / 2.0"
   ]
  },
  {
   "cell_type": "markdown",
   "metadata": {},
   "source": [
    "## Dual-Channels Mode, Internal Trigger, 4 Frames of 4800 Samples"
   ]
  },
  {
   "cell_type": "code",
   "execution_count": null,
   "metadata": {
    "ExecuteTime": {
     "end_time": "2020-12-27T13:45:51.380577Z",
     "start_time": "2020-12-27T13:45:49.799553Z"
    }
   },
   "outputs": [],
   "source": [
    "# Several initializations ..\n",
    "\n",
    "inst.default_paranoia_level = 2\n",
    "\n",
    "inst.send_scpi_cmd('*CLS; *RST')\n",
    "inst.send_scpi_cmd(':INST:CHAN 1')\n",
    "inst.send_scpi_cmd(':FREQ:RAST 1.0e9')\n",
    "inst.send_scpi_cmd(':INIT:CONT ON')\n",
    "inst.send_scpi_cmd(':TRAC:DEL:ALL')\n",
    "resp = inst.send_scpi_query(':SYST:ERR?')\n",
    "print(resp)\n"
   ]
  },
  {
   "cell_type": "code",
   "execution_count": null,
   "metadata": {
    "ExecuteTime": {
     "end_time": "2020-12-27T13:45:54.687753Z",
     "start_time": "2020-12-27T13:45:54.653830Z"
    }
   },
   "outputs": [],
   "source": [
    "# Build two AWG segment that will be used as innput for the digitizer\n",
    "\n",
    "cycleLen = 1024\n",
    "numCycles = 1\n",
    "segLen = cycleLen * numCycles\n",
    "\n",
    "# Build waveform (sine wave)\n",
    "x = np.linspace(\n",
    "    start=0, stop=2 * np.pi * numCycles, num=segLen, endpoint=False)\n",
    "\n",
    "y = (np.sin(x) + 1.0) * half_dac\n",
    "y = np.round(y)\n",
    "y = np.clip(y, 0, max_dac)\n",
    "y = y.astype(data_type)\n",
    "\n",
    "# download it to segment 1 of channel 1\n",
    "inst.send_scpi_cmd(':INST:CHAN 1')\n",
    "inst.send_scpi_cmd(':TRAC:DEF 1,' + str(segLen))\n",
    "inst.send_scpi_cmd(':TRAC:SEL 1')\n",
    "\n",
    "# download the waveform to the selected segment\n",
    "inst.write_binary_data(':TRAC:DATA', y)\n",
    "\n",
    "resp = inst.send_scpi_query(':SYST:ERR?')\n",
    "print(resp)\n",
    "\n",
    "# Build waveform (triangle wave)\n",
    "y = np.sin(x)\n",
    "y = np.arcsin(y)* 2 * half_dac / np.pi + half_dac\n",
    "y = np.round(y)\n",
    "y = np.clip(y, 0, max_dac)\n",
    "y = y.astype(data_type)\n",
    "\n",
    "# download it to segment 2 of channel 2\n",
    "inst.send_scpi_cmd(':INST:CHAN 2')\n",
    "inst.send_scpi_cmd(':TRAC:DEF 2,' + str(segLen))\n",
    "inst.send_scpi_cmd(':TRAC:SEL 2')\n",
    "\n",
    "\n",
    "# download the waveform to the selected segment\n",
    "inst.write_binary_data(':TRAC:DATA', y)\n",
    "\n",
    "resp = inst.send_scpi_query(':SYST:ERR?')\n",
    "print(resp)\n",
    "\n",
    "del x, y\n"
   ]
  },
  {
   "cell_type": "code",
   "execution_count": null,
   "metadata": {
    "ExecuteTime": {
     "end_time": "2020-12-27T13:46:01.044749Z",
     "start_time": "2020-12-27T13:46:01.031784Z"
    }
   },
   "outputs": [],
   "source": [
    "# Play segment 1 in channel 1 of the AWG\n",
    "# AWG Channl 1 (output) should be connected to Digitizer Channel 1 (input)\n",
    "inst.send_scpi_cmd(':INST:CHAN 1')\n",
    "inst.send_scpi_cmd(':SOUR:FUNC:MODE:SEGM 1')\n",
    "inst.send_scpi_cmd(':SOUR:VOLT 0.5')\n",
    "inst.send_scpi_cmd(':OUTP ON')\n",
    "\n",
    "# Play segment 2 in channel 2of the AWG\n",
    "# AWG Channl 2 (output) should be connected to Digitizer Channel 2 (input)\n",
    "inst.send_scpi_cmd(':INST:CHAN 2')\n",
    "inst.send_scpi_cmd(':SOUR:FUNC:MODE:SEGM 2')\n",
    "inst.send_scpi_cmd(':SOUR:VOLT 0.5')\n",
    "inst.send_scpi_cmd(':OUTP ON')\n",
    "\n",
    "resp = inst.send_scpi_query(':SYST:ERR?')\n",
    "print(resp)\n"
   ]
  },
  {
   "cell_type": "code",
   "execution_count": null,
   "metadata": {
    "ExecuteTime": {
     "end_time": "2020-12-27T13:46:07.760804Z",
     "start_time": "2020-12-27T13:46:06.174041Z"
    }
   },
   "outputs": [],
   "source": [
    "# Setup the digitizer in two-channels mode\n",
    "inst.send_scpi_cmd(':DIG:MODE DUAL')\n",
    "inst.send_scpi_cmd(':DIG:FREQ 800MHZ')\n",
    "\n",
    "# Enable capturing data from channel 1\n",
    "inst.send_scpi_cmd(':DIG:CHAN:SEL 1')\n",
    "inst.send_scpi_cmd(':DIG:CHAN:STATE ENAB')\n",
    "# Select the internal-trigger as start-capturing trigger:\n",
    "inst.send_scpi_cmd(':DIG:TRIG:SOURCE CPU')\n",
    "\n",
    "# Enable capturing data from channel 2\n",
    "inst.send_scpi_cmd(':DIG:CHAN:SEL 2')\n",
    "inst.send_scpi_cmd(':DIG:CHAN:STATE ENAB')\n",
    "# Select the internal-trigger as start-capturing trigger:\n",
    "inst.send_scpi_cmd(':DIG:TRIG:SOURCE CPU')\n",
    "\n",
    "# Allocate four frames of 4800 samples\n",
    "numframes, framelen = 4, 4800\n",
    "cmd = ':DIG:ACQuire:FRAM:DEF {0},{1}'.format(numframes, framelen)\n",
    "inst.send_scpi_cmd(cmd)\n",
    "\n",
    "# Select the frames for the capturing \n",
    "# (all the four frames in this example)\n",
    "capture_first, capture_count = 1, numframes\n",
    "cmd = ':DIG:ACQuire:FRAM:CAPT {0},{1}'.format(capture_first, capture_count)\n",
    "inst.send_scpi_cmd(cmd)\n",
    "\n",
    "\n",
    "resp = inst.send_scpi_query(':SYST:ERR?')\n",
    "print(resp)\n"
   ]
  },
  {
   "cell_type": "code",
   "execution_count": null,
   "metadata": {
    "ExecuteTime": {
     "end_time": "2020-12-27T13:46:11.012108Z",
     "start_time": "2020-12-27T13:46:10.561314Z"
    }
   },
   "outputs": [],
   "source": [
    "# Start the digitizer's capturing machine\n",
    "inst.send_scpi_cmd(':DIG:INIT ON')\n",
    "\n",
    "# Generate 4 software-triggers\n",
    "for _ in range(capture_count):\n",
    "    inst.send_scpi_cmd(':DIG:TRIG:IMM')\n",
    "    time.sleep(0.1) # more than  enough for capturing single frame\n",
    "    # Query the status\n",
    "    resp = inst.send_scpi_query(':DIG:ACQuire:FRAM:STATus?')\n",
    "    print(resp)\n",
    "\n",
    "print()\n",
    "\n",
    "# Stop the digitizer's capturing machine (to be on the safe side)\n",
    "inst.send_scpi_cmd(':DIG:INIT OFF')\n",
    "\n",
    "resp = inst.send_scpi_query(':SYST:ERR?')\n",
    "print(resp)"
   ]
  },
  {
   "cell_type": "code",
   "execution_count": null,
   "metadata": {
    "ExecuteTime": {
     "end_time": "2020-12-27T13:46:24.325051Z",
     "start_time": "2020-12-27T13:46:15.157051Z"
    }
   },
   "outputs": [],
   "source": [
    "# Choose which frames to read (all in this example)\n",
    "inst.send_scpi_cmd(':DIG:DATA:SEL ALL')\n",
    "\n",
    "# Choose what to read \n",
    "# (only the frame-data without the header in this example)\n",
    "inst.send_scpi_cmd(':DIG:DATA:TYPE FRAM')\n",
    "\n",
    "# Get the total data size (in bytes)\n",
    "resp = inst.send_scpi_query(':DIG:DATA:SIZE?')\n",
    "num_bytes = np.uint32(resp)\n",
    "print('Total size in bytes: ' + resp)\n",
    "print()\n",
    "\n",
    "# Read the data that was captured by channel 1:\n",
    "inst.send_scpi_cmd(':DIG:CHAN:SEL 1')\n",
    "\n",
    "wavlen = num_bytes // 2\n",
    "\n",
    "wav1 = np.zeros(wavlen, dtype=np.uint16)\n",
    "\n",
    "rc = inst.read_binary_data(':DIG:DATA:READ?', wav1, num_bytes)\n",
    "\n",
    "# Read the data that was captured by channel 2:\n",
    "inst.send_scpi_cmd(':DIG:CHAN:SEL 2')\n",
    "\n",
    "wav2 = np.zeros(wavlen, dtype=np.uint16)\n",
    "rc = inst.read_binary_data(':DIG:DATA:READ?', wav2, num_bytes)\n",
    "\n",
    "resp = inst.send_scpi_query(':SYST:ERR?')\n",
    "print(resp)"
   ]
  },
  {
   "cell_type": "code",
   "execution_count": null,
   "metadata": {
    "ExecuteTime": {
     "end_time": "2020-12-27T13:46:33.254808Z",
     "start_time": "2020-12-27T13:46:33.158067Z"
    }
   },
   "outputs": [],
   "source": [
    "# Plot the samples\n",
    "totlen = numframes * framelen\n",
    "x = range(numframes * framelen)\n",
    "plt.figure(1)\n",
    "ax1 = plt.subplot(211)\n",
    "ax1.set_xticks(np.arange(0, totlen, framelen))\n",
    "ax1.grid(True)\n",
    "ax1.plot(x, wav1)\n",
    "ax1.set_ylabel('CH1')\n",
    "\n",
    "ax2 = plt.subplot(212, sharex=ax1)\n",
    "ax2.set_xticks(np.arange(0, totlen, framelen))\n",
    "ax2.grid(True)\n",
    "ax2.plot(x, wav2)\n",
    "ax2.set_ylabel('CH2')\n",
    "\n",
    "plt.show()\n",
    "\n",
    "del wav1, wav2"
   ]
  },
  {
   "cell_type": "markdown",
   "metadata": {},
   "source": [
    "## Single-Channel Mode, External-Trigger, 256 Frames of 24576 Samples"
   ]
  },
  {
   "cell_type": "code",
   "execution_count": null,
   "metadata": {
    "ExecuteTime": {
     "end_time": "2020-12-27T13:46:40.204232Z",
     "start_time": "2020-12-27T13:46:40.197252Z"
    }
   },
   "outputs": [],
   "source": [
    "import tempfile\n",
    "import os\n",
    "\n",
    "# Create Temporary Directory for temporary wave-files\n",
    "\n",
    "tempdir = tempfile.gettempdir()\n",
    "#tempdirname = os.path.join(tempdirname, 'digexample')\n",
    "tempdir = tempfile.mkdtemp(dir = tempdir)\n",
    "print(\"tempdir: \\'{0}\\'\".format(tempdir))\n",
    "\n",
    "temp_name = next(tempfile._get_candidate_names())\n",
    "wavfile1 = os.path.join(tempdir, temp_name + '.wav')\n",
    "print(\"wavfile1: \\'{0}\\'\".format(wavfile1))"
   ]
  },
  {
   "cell_type": "code",
   "execution_count": null,
   "metadata": {
    "ExecuteTime": {
     "end_time": "2020-12-27T13:46:59.103445Z",
     "start_time": "2020-12-27T13:46:55.815502Z"
    }
   },
   "outputs": [],
   "source": [
    "# Several initializations ..\n",
    "inst.send_scpi_cmd('*CLS; *RST')\n",
    "inst.send_scpi_cmd(':INST:CHAN 1')\n",
    "inst.send_scpi_cmd(':FREQ:RAST 2.5e9')\n",
    "inst.send_scpi_cmd(':INIT:CONT ON')\n",
    "inst.send_scpi_cmd(':TRAC:DEL:ALL')\n",
    "resp = inst.send_scpi_query(':SYST:ERR?')\n",
    "print(resp)"
   ]
  },
  {
   "cell_type": "code",
   "execution_count": null,
   "metadata": {
    "ExecuteTime": {
     "end_time": "2020-12-27T13:47:04.347452Z",
     "start_time": "2020-12-27T13:47:04.293579Z"
    }
   },
   "outputs": [],
   "source": [
    "# Build AWG segment that will be used as innput for the digitizer\n",
    "\n",
    "segLen = 48000\n",
    "\n",
    "inst.send_scpi_cmd(':TRAC:DEF 1,' + str(segLen))\n",
    "inst.send_scpi_cmd(':TRAC:SEL 1')\n",
    "\n",
    "# just to make it interesting ..\n",
    "p = np.poly1d([0.025, -0.36, 1.25, 2.0])\n",
    "t = np.linspace(0, 10, segLen, endpoint=False)\n",
    "\n",
    "y = sweep_poly(t, p)\n",
    "del t\n",
    "del p\n",
    "y = np.round((y + 1.0) * half_dac)\n",
    "y = np.clip(y, 0, max_dac)\n",
    "y = y.astype(np.uint16)\n",
    "\n",
    "inst.timeout = 30000\n",
    "inst.write_binary_data(':TRAC:DATA', y)\n",
    "inst.timeout = 10000\n",
    "\n",
    "del y\n",
    "\n",
    "resp = inst.send_scpi_query(':SYST:ERR?')\n",
    "print(resp)\n",
    "\n",
    "# Play segment 1 in channel 1 of the AWG\n",
    "# AWG Channl 1 (output) should be connected to Digitizer Channel 1 (input)\n",
    "inst.send_scpi_cmd(\":INST:CHAN 1\")\n",
    "inst.send_scpi_cmd(\":SOUR:FUNC:MODE:SEGM 1\")\n",
    "inst.send_scpi_cmd(\":SOUR:VOLT 0.5\")\n",
    "inst.send_scpi_cmd(\":OUTP ON\")\n",
    "\n",
    "resp = inst.send_scpi_query(':SYST:ERR?')\n",
    "print(resp)\n"
   ]
  },
  {
   "cell_type": "code",
   "execution_count": null,
   "metadata": {
    "ExecuteTime": {
     "end_time": "2020-12-27T13:47:16.445812Z",
     "start_time": "2020-12-27T13:47:15.421440Z"
    }
   },
   "outputs": [],
   "source": [
    "# Setup the digitizer in single-channel mode\n",
    "inst.send_scpi_cmd(':DIG:MODE SING')\n",
    "inst.send_scpi_cmd(':DIG:FREQ 1.6GHZ')\n",
    "\n",
    "# Select the external-trigger as start-capturing trigger:\n",
    "inst.send_scpi_cmd(':DIG:CHAN:SEL 2')\n",
    "inst.send_scpi_cmd(':DIG:TRIG:SOURCE EXT')\n",
    "\n",
    "inst.send_scpi_cmd(':DIG:CHAN:SEL 1')\n",
    "inst.send_scpi_cmd(':DIG:TRIG:SOURCE EXT')\n",
    "\n",
    "# Select threshold level 1 of the external trigger\n",
    "inst.send_scpi_cmd(':DIG:TRIG:LEV1 0.3')\n",
    "\n",
    "# Enable capturing data from channel 1\n",
    "inst.send_scpi_cmd(':DIG:CHAN:SEL 1')\n",
    "inst.send_scpi_cmd(':DIG:CHAN:STATE ENAB')\n",
    "\n",
    "\n",
    "# Select the pattern of the external trigger\n",
    "inst.send_scpi_cmd(\":DIG:TRIG:TYPE EDGE\")\n",
    "\n",
    "# Allocate 256 frames of 24576 samples\n",
    "numframes, framelen = 256, 24576\n",
    "cmd = \":DIG:ACQuire:FRAM:DEF {0},{1}\".format(numframes, framelen)\n",
    "inst.send_scpi_cmd(cmd)\n",
    "\n",
    "# Select the frames for the capturing \n",
    "# (all the four frames in this example)\n",
    "capture_first, capture_count = 1, numframes\n",
    "cmd = \":DIG:ACQuire:FRAM:CAPT {0},{1}\".format(capture_first, capture_count)\n",
    "inst.send_scpi_cmd(cmd)\n",
    "\n",
    "\n",
    "resp = inst.send_scpi_query(':SYST:ERR?')\n",
    "print(resp)\n"
   ]
  },
  {
   "cell_type": "code",
   "execution_count": null,
   "metadata": {
    "ExecuteTime": {
     "end_time": "2020-12-27T13:47:23.141951Z",
     "start_time": "2020-12-27T13:47:22.117659Z"
    }
   },
   "outputs": [],
   "source": [
    "# Start the digitizer's capturing machine\n",
    "inst.send_scpi_cmd(':DIG:INIT ON')\n",
    "\n",
    "# Wait till capturing is completed \n",
    "# (assuming that some external signal generates the triggers)\n",
    "for itrail in range(35):\n",
    "    time.sleep(1)\n",
    "    # Query the status\n",
    "    resp = inst.send_scpi_query(':DIG:ACQuire:FRAM:STATus?')\n",
    "    print('{0: >3}. {1}'.format(itrail + 1, resp))\n",
    "    if resp == '1,1,0':\n",
    "        break\n",
    "\n",
    "print()\n",
    "\n",
    "# Stop the digitizer's capturing machine (to be on the safe side)\n",
    "inst.send_scpi_cmd(':DIG:INIT OFF')\n",
    "\n",
    "resp = inst.send_scpi_query(':SYST:ERR?')\n",
    "print(resp)"
   ]
  },
  {
   "cell_type": "code",
   "execution_count": null,
   "metadata": {
    "ExecuteTime": {
     "end_time": "2020-12-27T13:47:58.033240Z",
     "start_time": "2020-12-27T13:47:38.712863Z"
    }
   },
   "outputs": [],
   "source": [
    "# -----------------------------------------------------------------------------------\n",
    "# Reading all frames at once might be inefficient  because of big memory allocations.\n",
    "# -----------------------------------------------------------------------------------\n",
    "\n",
    "if False:\n",
    "\n",
    "    # Set reading mode of multiple frames\n",
    "    inst.send_scpi_cmd(':DIG:DATA:SEL ALL')\n",
    "    \n",
    "    # Get the total data size (in bytes)\n",
    "    resp = inst.send_scpi_query(':DIG:DATA:SIZE?')\n",
    "    num_bytes = np.uint32(resp)\n",
    "    print('Total size in bytes: ' + resp)\n",
    "    \n",
    "    wav_len = num_bytes // 2\n",
    "    wav1 = np.zeros(wav_len, dtype=np.uint16)\n",
    "\n",
    "    rc = inst.read_binary_data(':DIG:DATA:READ?', wav1, num_bytes)\n",
    "\n",
    "    plt.figure()\n",
    "    plt.plot(wav1)\n",
    "    plt.show()\n",
    "    del wav1"
   ]
  },
  {
   "cell_type": "code",
   "execution_count": null,
   "metadata": {
    "ExecuteTime": {
     "end_time": "2020-12-27T13:49:01.130387Z",
     "start_time": "2020-12-27T13:48:40.398803Z"
    }
   },
   "outputs": [],
   "source": [
    "# -----------------------------------------------------------------------------------\n",
    "# If there are a lot of short frames, then reading a single frame at a time \n",
    "# might be inefficient because of the overhead in each reading.\n",
    "# The way to keep it efficient is to read N frames at a time,\n",
    "# where the total length of the N frames is about 1:4 Mega samples\n",
    "# -----------------------------------------------------------------------------------\n",
    "\n",
    "# A chunk of 64 frames hold 1.5 Mega samples\n",
    "frames_chunk = 64\n",
    "\n",
    "inst.send_scpi_query(':DIG:CHAN:SEL 1')\n",
    "\n",
    "# Set reading mode of multiple frames\n",
    "inst.send_scpi_query(':DIG:DATA:SEL FRAM')\n",
    "    \n",
    "# Choose what to read \n",
    "# (only the frame-data without the header in this example)\n",
    "inst.send_scpi_query(':DIG:DATA:TYPE FRAM')\n",
    "\n",
    "# the frame data size in bytes\n",
    "frame_data_size = framelen * 2\n",
    "\n",
    "wavbuf = np.empty(framelen * frames_chunk, dtype=np.uint16)\n",
    "\n",
    "# Read the frames in chunks of 64-frames and store the data in a temporary-file\n",
    "with open(wavfile1, \"wb\") as outfile:\n",
    "    offs = 0\n",
    "    while offs < numframes:\n",
    "        \n",
    "        if offs + frames_chunk > numframes:\n",
    "            frames_chunk = numframes - offs\n",
    "            wavbuf = np.empty(framelen * frames_chunk, dtype=np.uint16)\n",
    "        \n",
    "        # Choose which frames to read\n",
    "        cmd = 'DIG:DATA:FRAM {0},{1}'.format(offs + 1, frames_chunk)\n",
    "        inst.send_scpi_cmd(cmd)\n",
    "        \n",
    "        print('Reading {0} frames (offset {1})'.format(frames_chunk, offs))\n",
    "        \n",
    "        num_bytes = frame_data_size * frames_chunk\n",
    "        \n",
    "        # Read chunk of frames\n",
    "        inst.timeout = 30000\n",
    "        rc = inst.read_binary_data(':DIG:DATA:READ?', wavbuf, num_bytes)\n",
    "        inst.timeout = 10000;\n",
    "        \n",
    "        # Write to file\n",
    "        wavbuf.tofile(outfile)\n",
    "        \n",
    "        offs = offs + frames_chunk\n",
    "\n",
    "del wavbuf\n",
    "resp = inst.send_scpi_query(':SYST:ERR?')\n",
    "print(resp)"
   ]
  },
  {
   "cell_type": "code",
   "execution_count": null,
   "metadata": {
    "ExecuteTime": {
     "end_time": "2020-12-27T13:49:06.659607Z",
     "start_time": "2020-12-27T13:49:06.504024Z"
    }
   },
   "outputs": [],
   "source": [
    "# Display the contents of the file (using interactive wigets)\n",
    "\n",
    "wavlen1 = 0\n",
    "try:\n",
    "    wavdat = np.memmap(wavfile1, dtype=np.uint16, mode='r')\n",
    "    wavlen1 = len(wavdat)\n",
    "    del wavdat\n",
    "except:\n",
    "    wavlen1 = 0\n",
    "\n",
    "plotlen1 = min(wavlen1, 10000)\n",
    "plotoffs1 = 0\n",
    "\n",
    "plotlen_slider1 = widgets.IntSlider(\n",
    "    min=0, max=min(wavlen1, 10000000), value=min(wavlen1, 10000), description='Plot Length')\n",
    "\n",
    "plotoffs_slider1 = widgets.IntSlider(min=0, max=wavlen1, value=0, description='Plot Offset')\n",
    "\n",
    "plotlen_text1 = widgets.IntText()\n",
    "plotlen_link1 = widgets.jslink((plotlen_slider1, 'value'), (plotlen_text1, 'value'))\n",
    "\n",
    "plotoffs_text1 = widgets.IntText()\n",
    "plotoffs_link1 = widgets.jslink((plotoffs_slider1, 'value'), (plotoffs_text1, 'value'))\n",
    "\n",
    "def plot_wavdat1(offset, length):\n",
    "    global wavfile1\n",
    "    fig1 = plt.figure(3)\n",
    "    ax = fig1.gca()\n",
    "    ax.clear()\n",
    "    try:\n",
    "        wavdat = np.memmap(wavfile1, dtype=np.uint16, mode='r')\n",
    "        ax.plot(range(offset, offset + length), wavdat[offset: offset + length])\n",
    "        del wavdat\n",
    "    except:\n",
    "        pass\n",
    "    plt.show()\n",
    "\n",
    "def handle_plotlen_slider1_change(change):\n",
    "    global plotoffs_slider1\n",
    "    global wavlen1\n",
    "    length = change.new\n",
    "    offset = plotoffs_slider1.value\n",
    "    if length + offset > wavlen1:\n",
    "        length = min(length, wavlen1)\n",
    "        offset = max(0, wavlen1 - length)\n",
    "    plot_wavdat1(offset, length)\n",
    "    \n",
    "def handle_plotoffs_slider1_change(change):\n",
    "    global plotlen_slider1\n",
    "    global wavlen1\n",
    "    length = plotlen_slider1.value\n",
    "    offset = change.new\n",
    "    if length + offset > wavlen1:\n",
    "        offset = min(offset, wavlen1)\n",
    "        length = max(0, wavlen1 - offset)\n",
    "    plot_wavdat1(offset, length)\n",
    "\n",
    "plotlen_slider1.observe(handle_plotlen_slider1_change, names='value')\n",
    "\n",
    "plotoffs_slider1.observe(handle_plotoffs_slider1_change, names='value')\n",
    "\n",
    "display(plotlen_slider1, plotlen_text1, plotoffs_slider1, plotoffs_text1)\n",
    "\n",
    "plot_wavdat1(plotoffs_slider1.value, plotlen_slider1.value)\n"
   ]
  }
 ],
 "metadata": {
  "hide_input": false,
  "kernelspec": {
   "display_name": "Python 3",
   "language": "python",
   "name": "python3"
  },
  "language_info": {
   "codemirror_mode": {
    "name": "ipython",
    "version": 3
   },
   "file_extension": ".py",
   "mimetype": "text/x-python",
   "name": "python",
   "nbconvert_exporter": "python",
   "pygments_lexer": "ipython3",
   "version": "3.8.5"
  },
  "latex_envs": {
   "LaTeX_envs_menu_present": true,
   "autoclose": false,
   "autocomplete": true,
   "bibliofile": "biblio.bib",
   "cite_by": "apalike",
   "current_citInitial": 1,
   "eqLabelWithNumbers": true,
   "eqNumInitial": 1,
   "hotkeys": {
    "equation": "Ctrl-E",
    "itemize": "Ctrl-I"
   },
   "labels_anchors": false,
   "latex_user_defs": false,
   "report_style_numbering": false,
   "user_envs_cfg": false
  },
  "varInspector": {
   "cols": {
    "lenName": 16,
    "lenType": 16,
    "lenVar": 40
   },
   "kernels_config": {
    "python": {
     "delete_cmd_postfix": "",
     "delete_cmd_prefix": "del ",
     "library": "var_list.py",
     "varRefreshCmd": "print(var_dic_list())"
    },
    "r": {
     "delete_cmd_postfix": ") ",
     "delete_cmd_prefix": "rm(",
     "library": "var_list.r",
     "varRefreshCmd": "cat(var_dic_list()) "
    }
   },
   "position": {
    "height": "703.85px",
    "left": "1550px",
    "right": "20px",
    "top": "120px",
    "width": "350px"
   },
   "types_to_exclude": [
    "module",
    "function",
    "builtin_function_or_method",
    "instance",
    "_Feature"
   ],
   "window_display": true
  }
 },
 "nbformat": 4,
 "nbformat_minor": 4
}
