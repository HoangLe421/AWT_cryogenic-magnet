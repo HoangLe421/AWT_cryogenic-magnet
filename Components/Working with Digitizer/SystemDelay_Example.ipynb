{
 "cells": [
  {
   "cell_type": "markdown",
   "metadata": {},
   "source": [
    "<img align=\"left\" src=\"https://www.taborelec.com/Pictures/logo.png\">"
   ]
  },
  {
   "cell_type": "markdown",
   "metadata": {},
   "source": [
    "# System Delay\n",
    "\n",
    "This script will able to check the round trip delay from the generator to the digitizer.\n",
    "\n",
    "Connect CH1 output to ADC CH1 input\n",
    "\n",
    "We will create two fast segment in the generator:\n",
    "\n",
    "SEG1 - mid level DC data\n",
    "\n",
    "SEG2 - sinus data\n",
    "\n",
    "\n",
    "We will crate a task that will play SEG1 and SEG2 in an infinite loop. task2 that plays SEG2 will isue a trigger to the ADC.\n",
    "\n",
    "The delay will be equal to the amount of points that holds the DC level"
   ]
  },
  {
   "cell_type": "code",
   "execution_count": 1,
   "metadata": {},
   "outputs": [],
   "source": [
    "import os\n",
    "import sys\n",
    "srcpath = os.path.realpath('../../SourceFiles')\n",
    "sys.path.append(srcpath)\n",
    "#from teproteus import TEProteusAdmin as TepAdmin\n",
    "#from teproteus import TEProteusInst as TepInst\n",
    "from tevisainst import TEVisaInst"
   ]
  },
  {
   "cell_type": "code",
   "execution_count": 2,
   "metadata": {},
   "outputs": [],
   "source": [
    "%matplotlib notebook\n",
    "import numpy as np\n",
    "import time\n",
    "import ipywidgets as widgets\n",
    "from IPython.core.debugger import set_trace\n",
    "from scipy.signal import chirp, sweep_poly\n",
    "import matplotlib.pyplot as plt"
   ]
  },
  {
   "cell_type": "code",
   "execution_count": 4,
   "metadata": {},
   "outputs": [
    {
     "name": "stdout",
     "output_type": "stream",
     "text": [
      "connected to: Tabor Electronics,P9484M,000002210203,1.119.0\n"
     ]
    }
   ],
   "source": [
    "# Connect to instrument\n",
    "\n",
    "# Please choose appropriate address:\n",
    "inst_addr = 'TCPIP::192.168.0.62::5025::SOCKET'\n",
    "\n",
    "inst = TEVisaInst(inst_addr)\n",
    "\n",
    "resp = inst.send_scpi_query(\"*IDN?\")\n",
    "print('connected to: ' + resp)"
   ]
  },
  {
   "cell_type": "code",
   "execution_count": 5,
   "metadata": {},
   "outputs": [
    {
     "name": "stdout",
     "output_type": "stream",
     "text": [
      "Tabor Electronics,P9484M,000002210203,1.119.0\n",
      "Model: P9484M \n",
      "DAC 16 bits\n",
      "0, no error\n"
     ]
    }
   ],
   "source": [
    "# Paranoia Level (0: low, 1: normal, 2: debug)\n",
    "paranoia_level = 2\n",
    "\n",
    "# Get the instrument's *IDN\n",
    "resp = inst.send_scpi_query('*IDN?')\n",
    "print(resp)\n",
    "\n",
    "# Get the DAC mode (8 bits or 16 bits)\n",
    "resp = inst.send_scpi_query(':SYST:INF:DAC?')\n",
    "\n",
    "if resp == 'M0': \n",
    "    dac_mode=16 \n",
    "else: dac_mode=8\n",
    "\n",
    "# Get the model:\n",
    "model_name = inst.send_scpi_query('SYST:INF:MODel?')\n",
    "print('Model: {0} '.format(model_name))\n",
    "\n",
    "# Get model dependant parameters:\n",
    "\n",
    "if model_name.startswith('P948'):\n",
    "    bpp = 2\n",
    "    max_dac = 65535\n",
    "    wpt_type = np.uint16\n",
    "    offset_factor = 1\n",
    "elif model_name.startswith('P908'):\n",
    "    bpp = 1\n",
    "    max_dac = 255\n",
    "    wpt_type = np.uint8\n",
    "    offset_factor = 1\n",
    "else:\n",
    "    bpp = 2\n",
    "    max_dac = 65535\n",
    "    wpt_type = np.uint16\n",
    "    offset_factor = 2\n",
    "    \n",
    "half_dac = max_dac / 2.0    \n",
    "    \n",
    "print('DAC {0} bits'.format(dac_mode))\n",
    "\n",
    "if dac_mode == 16:\n",
    "    max_dac = 65535\n",
    "    data_type = np.uint16 \n",
    "else:\n",
    "    max_dac = 255\n",
    "    data_type = np.uint8 \n",
    "    \n",
    "half_dac = max_dac / 2.0\n",
    "\n",
    "\n",
    "# Several initializations ..\n",
    "inst.send_scpi_cmd('*CLS; *RST')\n",
    "inst.send_scpi_cmd(':INST:CHAN 1')\n",
    "inst.send_scpi_cmd(':TRAC:DEL:ALL')\n",
    "resp = inst.send_scpi_query(':SYST:ERR?')\n",
    "print(resp)"
   ]
  },
  {
   "cell_type": "markdown",
   "metadata": {},
   "source": [
    "# Configure Generator"
   ]
  },
  {
   "cell_type": "markdown",
   "metadata": {},
   "source": [
    "#### Create Two segments"
   ]
  },
  {
   "cell_type": "code",
   "execution_count": 6,
   "metadata": {},
   "outputs": [
    {
     "name": "stdout",
     "output_type": "stream",
     "text": [
      "0, no error\n",
      "0, no error\n"
     ]
    }
   ],
   "source": [
    "# Build two AWG segment that will be used as innput for the digitizer\n",
    "\n",
    "cycleLen = 1024\n",
    "numCycles = 1\n",
    "segLen = cycleLen * numCycles\n",
    "\n",
    "# build DC level segment\n",
    "d = np.full((1,segLen),half_dac)\n",
    "d = d.astype(data_type)\n",
    "\n",
    "\n",
    "# download it to segment 1 of channel 1\n",
    "inst.send_scpi_cmd(':INST:CHAN 1')\n",
    "inst.send_scpi_cmd(':TRAC:DEF 1,' + str(segLen))\n",
    "inst.send_scpi_cmd(':TRAC:SEL 1')\n",
    "# download the waveform to the selected segment\n",
    "cmd = '*OPC?; :TRAC:DATA'\n",
    "inst.write_binary_data(cmd, d[0])\n",
    "resp = inst.send_scpi_query(':SYST:ERR?')\n",
    "print(resp)\n",
    "\n",
    "\n",
    "cycleLen = 1024\n",
    "numCycles = 8\n",
    "segLen = cycleLen * numCycles\n",
    "\n",
    "# Build waveform (sine wave)\n",
    "x = np.linspace(\n",
    "    start=0, stop=2 * np.pi * numCycles, num=segLen, endpoint=False)\n",
    "\n",
    "y = (np.sin(x) + 1.0) * half_dac\n",
    "y = np.round(y)\n",
    "y = np.clip(y, 0, max_dac)\n",
    "y = y.astype(data_type)\n",
    "\n",
    "# download it to segment 2 of channel 1\n",
    "inst.send_scpi_cmd(':INST:CHAN 1')\n",
    "inst.send_scpi_cmd(':TRAC:DEF 2,' + str(segLen))\n",
    "inst.send_scpi_cmd(':TRAC:SEL 2')\n",
    "# download the waveform to the selected segment\n",
    "cmd = '*OPC?; :TRAC:DATA'\n",
    "inst.write_binary_data(cmd, y)\n",
    "resp = inst.send_scpi_query(':SYST:ERR?')\n",
    "print(resp)\n"
   ]
  },
  {
   "cell_type": "markdown",
   "metadata": {},
   "source": [
    "#### Import Task table from a file"
   ]
  },
  {
   "cell_type": "code",
   "execution_count": 7,
   "metadata": {},
   "outputs": [
    {
     "name": "stdout",
     "output_type": "stream",
     "text": [
      "task_table_path: \"C:\\git\\Python-Examples\\Notebooks\\SystemDelay.bin\"\n",
      "0, no error\n",
      "0, no error\n"
     ]
    }
   ],
   "source": [
    "######### import TASK table from a file ##############################\n",
    "# The default directory is: 'C:\\Users\\<user-name>\\Documents\\ProteusFiles'\n",
    "task_table_path = 'SystemDelay.bin'\n",
    "\n",
    "# Alternatively use absolute path:\n",
    "mypath = os.path.realpath('.')\n",
    "task_table_path = os.path.join(mypath, task_table_path)\n",
    "print('task_table_path: \"{0}\"'.format(task_table_path))\n",
    "\n",
    "# Convert the string to byte-array\n",
    "str_bytes = np.frombuffer(task_table_path.encode(), dtype=np.uint8)\n",
    "\n",
    "# Select task-table-file\n",
    "inst.write_binary_data(':TASK:FILE', str_bytes)\n",
    "\n",
    "# Load task table from the selected file:\n",
    "inst.send_scpi_cmd(':TASK:FILE:LOAD')\n",
    "\n",
    "resp = inst.send_scpi_query(':SYST:ERR?')\n",
    "print(resp)\n",
    "\n",
    "# set task mode\n",
    "inst.send_scpi_cmd(':INST:CHAN 1')\n",
    "inst.send_scpi_cmd(':SOUR:FUNC:MODE:TASK 1')\n",
    "inst.send_scpi_cmd(':SOUR:FUNC:MODE:TYPE TASK')\n",
    "resp = inst.send_scpi_query(':SYST:ERR?')\n",
    "print(resp)"
   ]
  },
  {
   "cell_type": "markdown",
   "metadata": {},
   "source": [
    "#### DAC clock and output"
   ]
  },
  {
   "cell_type": "code",
   "execution_count": 8,
   "metadata": {},
   "outputs": [
    {
     "name": "stdout",
     "output_type": "stream",
     "text": [
      "0, no error\n",
      "0, no error\n"
     ]
    }
   ],
   "source": [
    "# change DAC clock\n",
    "\n",
    "if dac_mode == 'M0': \n",
    "    MaxSclk=2.5e9 \n",
    "else:\n",
    "    MaxSclk=9e9\n",
    "\n",
    "cmd = ':SOUR:FREQ {0}'.format(MaxSclk)\n",
    "inst.send_scpi_cmd(cmd)\n",
    "\n",
    "resp = inst.send_scpi_query(':SYST:ERR?')\n",
    "print(resp)\n",
    "\n",
    "# AWG Channl 1 (output) should be connected to Digitizer Channel 1 (input)\n",
    "inst.send_scpi_cmd(':INST:CHAN 1')\n",
    "inst.send_scpi_cmd(':OUTP ON')\n",
    "resp = inst.send_scpi_query(':SYST:ERR?')\n",
    "print(resp)"
   ]
  },
  {
   "cell_type": "markdown",
   "metadata": {},
   "source": [
    "## ADC Single channel"
   ]
  },
  {
   "cell_type": "code",
   "execution_count": 9,
   "metadata": {},
   "outputs": [
    {
     "name": "stdout",
     "output_type": "stream",
     "text": [
      "0, no error\n"
     ]
    }
   ],
   "source": [
    "# Setup the digitizer in single-channels mode\n",
    "inst.send_scpi_cmd(':DIG:MODE SING')\n",
    "inst.send_scpi_cmd(':DIG:FREQ 5400MHZ')\n",
    "\n",
    "# Enable capturing data from channel 1\n",
    "inst.send_scpi_cmd(':DIG:CHAN:SEL 1')\n",
    "inst.send_scpi_cmd(':DIG:CHAN:STATE ENAB')\n",
    "# Select the TASK1 as start-capturing trigger:\n",
    "inst.send_scpi_cmd(':DIG:TRIG:SOURCE TASK1')\n",
    "\n",
    "# Enable capturing data from channel 2\n",
    "#inst.send_scpi_cmd(':DIG:CHAN:SEL 2')\n",
    "#inst.send_scpi_cmd(':DIG:CHAN:STATE ENAB')\n",
    "# Select the internal-trigger as start-capturing trigger:\n",
    "#inst.send_scpi_cmd(':DIG:TRIG:SOURCE CPU')\n",
    "\n",
    "# Allocate four frames of 4800 samples\n",
    "numframes, framelen = 4, 4800\n",
    "cmd = ':DIG:ACQuire:FRAM:DEF {0},{1}'.format(numframes, framelen)\n",
    "inst.send_scpi_cmd(cmd)\n",
    "\n",
    "# Select the frames for the capturing \n",
    "# (all the four frames in this example)\n",
    "capture_first, capture_count = 1, numframes\n",
    "cmd = ':DIG:ACQuire:FRAM:CAPT {0},{1}'.format(capture_first, capture_count)\n",
    "inst.send_scpi_cmd(cmd)\n",
    "\n",
    "\n",
    "resp = inst.send_scpi_query(':SYST:ERR?')\n",
    "print(resp)"
   ]
  },
  {
   "cell_type": "code",
   "execution_count": 10,
   "metadata": {},
   "outputs": [
    {
     "name": "stdout",
     "output_type": "stream",
     "text": [
      "1,0,0,0\n",
      "0, no error\n"
     ]
    }
   ],
   "source": [
    "# Start the digitizer's capturing machine\n",
    "inst.send_scpi_cmd(':DIG:INIT ON')\n",
    "\n",
    "time.sleep(1)\n",
    "\n",
    "# Query the status. a poling should be done here till end of capturing.\n",
    "# the delay above is sufficient for capturing 4 frames\n",
    "resp = inst.send_scpi_query(':DIG:ACQuire:FRAM:STATus?')\n",
    "print(resp)\n",
    "\n",
    "# Stop the digitizer's capturing machine\n",
    "inst.send_scpi_cmd(':DIG:INIT OFF')\n",
    "\n",
    "resp = inst.send_scpi_query(':SYST:ERR?')\n",
    "print(resp)"
   ]
  },
  {
   "cell_type": "code",
   "execution_count": null,
   "metadata": {},
   "outputs": [
    {
     "name": "stdout",
     "output_type": "stream",
     "text": [
      "Total size in bytes: 38400\n",
      "\n"
     ]
    }
   ],
   "source": [
    "# Choose which frames to read (all in this example)\n",
    "inst.send_scpi_cmd(':DIG:DATA:SEL ALL')\n",
    "\n",
    "# Choose what to read \n",
    "# (only the frame-data without the header in this example)\n",
    "inst.send_scpi_cmd(':DIG:DATA:TYPE FRAM')\n",
    "\n",
    "# Get the total data size (in bytes)\n",
    "resp = inst.send_scpi_query(':DIG:DATA:SIZE?')\n",
    "num_bytes = np.uint32(resp)\n",
    "print('Total size in bytes: ' + resp)\n",
    "print()\n",
    "\n",
    "# Read the data that was captured by channel 1:\n",
    "inst.send_scpi_cmd(':DIG:CHAN:SEL 1')\n",
    "\n",
    "wavlen = num_bytes // 2\n",
    "\n",
    "wav1 = np.zeros(wavlen, dtype=np.uint16)\n",
    "\n",
    "rc = inst.read_binary_data(':DIG:DATA:READ?', wav1, num_bytes)\n",
    "\n",
    "\n",
    "resp = inst.send_scpi_query(':SYST:ERR?')\n",
    "print(resp)"
   ]
  },
  {
   "cell_type": "code",
   "execution_count": null,
   "metadata": {},
   "outputs": [],
   "source": [
    "# Plot the samples\n",
    "totlen = numframes * framelen\n",
    "x = range(numframes * framelen)\n",
    "v = np.linspace(0,totlen,numframes,endpoint=False)\n",
    "plt.figure(figsize=(9,6))\n",
    "plt.grid(True)\n",
    "plt.plot(x, wav1)\n",
    "\n",
    "for xv in v:\n",
    "    plt.axvline(x=xv,linewidth=2,color='red')\n",
    "\n",
    "plt.show()\n",
    "\n",
    "del wav1\n",
    "\n",
    "# Clear Frames\n",
    "\n",
    "cmd = ':DIG:ACQ:ZERO:ALL'\n",
    "inst.send_scpi_cmd(cmd)\n",
    "\n",
    "resp = inst.send_scpi_query(':SYST:ERR?')\n",
    "print(resp)\n",
    "\n",
    "#free memory\n",
    "\n",
    "cmd = ':DIG:ACQ:FREE'\n",
    "inst.send_scpi_cmd(cmd)\n",
    "\n",
    "resp = inst.send_scpi_query(':SYST:ERR?')\n",
    "print(resp)"
   ]
  },
  {
   "cell_type": "markdown",
   "metadata": {},
   "source": [
    "## End"
   ]
  },
  {
   "cell_type": "code",
   "execution_count": null,
   "metadata": {},
   "outputs": [],
   "source": [
    "# close connection\n",
    "inst.close_instrument()\n",
    "admin.close_inst_admin()"
   ]
  },
  {
   "cell_type": "code",
   "execution_count": null,
   "metadata": {},
   "outputs": [],
   "source": []
  }
 ],
 "metadata": {
  "kernelspec": {
   "display_name": "Python 3",
   "language": "python",
   "name": "python3"
  },
  "language_info": {
   "codemirror_mode": {
    "name": "ipython",
    "version": 3
   },
   "file_extension": ".py",
   "mimetype": "text/x-python",
   "name": "python",
   "nbconvert_exporter": "python",
   "pygments_lexer": "ipython3",
   "version": "3.8.5"
  }
 },
 "nbformat": 4,
 "nbformat_minor": 2
}
