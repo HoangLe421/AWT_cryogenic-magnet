{
 "cells": [
  {
   "cell_type": "markdown",
   "metadata": {},
   "source": [
    "<img align=\"left\" src=\"https://www.taborelec.com/Pictures/logo.png\">"
   ]
  },
  {
   "cell_type": "markdown",
   "metadata": {},
   "source": [
    "# IQM ONE\n",
    "\n",
    "This script will test \"IQM ONE\" mode.in this mode one segments is generated containing two interleaved signals: sin and cos.\n",
    "\n",
    "When a sin signal is modulated with a cos signal, only one sideband signal relative to the LO signal\n",
    "\n",
    "Should be present.\n",
    "\n",
    "Connect channel 1 to a spectrum anlayzer at center frequency of 100MHz.\n",
    "\n",
    "Connect channel 2 to a spectrum anlayzer at center frequency of 120MHz.\n",
    "\n",
    "Connect channel 3 to a spectrum anlayzer at center frequency of 130MHz.\n",
    "\n",
    "Connect channel 4 to a spectrum anlayzer at center frequency of 140MHz."
   ]
  },
  {
   "cell_type": "code",
   "execution_count": 1,
   "metadata": {},
   "outputs": [
    {
     "name": "stdout",
     "output_type": "stream",
     "text": [
      "Interpolation =  X8\n",
      "maxRate =  9000000000.0\n"
     ]
    }
   ],
   "source": [
    "def getIntepolation(i):\n",
    "    switcher={\n",
    "                1:'X1',\n",
    "                2:'X2',\n",
    "                4:'X4',\n",
    "                8:'X8'\n",
    "             }\n",
    "    return switcher.get(i,\"Invalid Interpolation\")\n",
    "\n",
    "def getMaxRate(i):\n",
    "    switcher={\n",
    "                'X1': 2.5e9,\n",
    "                'X2': 5.0e9,\n",
    "                'X4': 9.0e9,\n",
    "                'X8': 9.0e9,\n",
    "             }\n",
    "    return switcher.get(i,\"2500\")\n",
    "\n",
    "# select here the Interpolation mode : 1,2,4 or 8\n",
    "Interpolation = getIntepolation(8)\n",
    "maxRate = getMaxRate(Interpolation)\n",
    "\n",
    "        \n",
    "print('Interpolation = ',Interpolation)\n",
    "print('maxRate = ',maxRate)"
   ]
  },
  {
   "cell_type": "code",
   "execution_count": 2,
   "metadata": {},
   "outputs": [],
   "source": [
    "import os\n",
    "import sys\n",
    "srcpath = os.path.realpath('../../SourceFiles')\n",
    "sys.path.append(srcpath)\n",
    "from teproteus import TEProteusAdmin as TepAdmin\n",
    "from teproteus import TEProteusInst as TepInst"
   ]
  },
  {
   "cell_type": "code",
   "execution_count": 3,
   "metadata": {},
   "outputs": [],
   "source": [
    "%matplotlib notebook\n",
    "import numpy as np\n",
    "import time\n",
    "import ipywidgets as widgets\n",
    "from IPython.core.debugger import set_trace\n",
    "from scipy.signal import chirp, sweep_poly\n",
    "import matplotlib.pyplot as plt"
   ]
  },
  {
   "cell_type": "code",
   "execution_count": 5,
   "metadata": {},
   "outputs": [
    {
     "name": "stdout",
     "output_type": "stream",
     "text": [
      "process id 20152\n"
     ]
    }
   ],
   "source": [
    "pid = os.getpid()\n",
    "print('process id {0}'.format(pid))\n",
    "\n",
    "# Connect to instrument\n",
    "Debug = False\n",
    "\n",
    "# Use lib_dir_path = None \n",
    "# for default location (C:\\Windows\\System32)\n",
    "# Change it only if you know what you are doing\n",
    "\n",
    "lib_dir_path = None\n",
    "#lib_dir_path = r'D:\\Projects\\ProteusAwg.Nitzan\\x64\\Debug'\n",
    "\n",
    "\n",
    "admin = TepAdmin(lib_dir_path)\n",
    "\n",
    "slots = admin.get_slot_ids()\n",
    "sid = slots[0]\n",
    "assert(sid < 255)\n",
    "\n",
    "inst = admin.open_instrument(slot_id=sid)\n",
    "inst.default_paranoia_level = 2 # 0, 1 or 2"
   ]
  },
  {
   "cell_type": "code",
   "execution_count": 6,
   "metadata": {},
   "outputs": [
    {
     "name": "stdout",
     "output_type": "stream",
     "text": [
      "Tabor Electronics,P2584M,000000220725,1.115.0\n",
      "0, no error\n"
     ]
    }
   ],
   "source": [
    "# Get the instrument's *IDN\n",
    "resp = inst.send_scpi_query('*IDN?')\n",
    "print(resp)\n",
    "\n",
    "# all IQM modes are in 16bit mode\n",
    "dac_mode = 16\n",
    "\n",
    "\n",
    "if dac_mode == 16:\n",
    "    max_dac = 65535\n",
    "    data_type = np.uint16 \n",
    "else:\n",
    "    max_dac = 255\n",
    "    data_type = np.uint8 \n",
    "    \n",
    "half_dac = max_dac / 2.0\n",
    "\n",
    "# Several initializations ..\n",
    "inst.send_scpi_cmd('*CLS; *RST')\n",
    "inst.send_scpi_cmd(':INST:CHAN 1')\n",
    "inst.send_scpi_cmd(':TRAC:DEL:ALL')\n",
    "resp = inst.send_scpi_query(':SYST:ERR?')\n",
    "print(resp)"
   ]
  },
  {
   "cell_type": "markdown",
   "metadata": {},
   "source": [
    "## Configure Generator"
   ]
  },
  {
   "cell_type": "code",
   "execution_count": 7,
   "metadata": {},
   "outputs": [
    {
     "name": "stdout",
     "output_type": "stream",
     "text": [
      "0, no error\n"
     ]
    }
   ],
   "source": [
    "# set Proteus to interpolation X1. this will move the module to 16bit mode if it was in 8.\n",
    "inst.send_scpi_cmd(':SOUR:INT X1')\n",
    "resp = inst.send_scpi_query(':SYST:ERR?')\n",
    "print(resp)"
   ]
  },
  {
   "cell_type": "markdown",
   "metadata": {},
   "source": [
    "#### Create one signal from two waves"
   ]
  },
  {
   "cell_type": "code",
   "execution_count": 8,
   "metadata": {},
   "outputs": [],
   "source": [
    "# Build two AWG segment one for I and one for Q\n",
    "\n",
    "cycleLen = 1024\n",
    "numCycles = 1\n",
    "segLen1 = cycleLen * numCycles\n",
    "\n",
    "# Build waveform (cosine wave)\n",
    "x1 = np.linspace(\n",
    "    start=0, stop=2 * np.pi * numCycles, num=segLen1, endpoint=False)\n",
    "\n",
    "I = (np.cos(x1) + 1.0) * half_dac\n",
    "I = np.round(I)\n",
    "I = np.clip(I, 0, max_dac)\n",
    "I = I.astype(data_type)\n",
    "\n",
    "# Build waveform (sine wave)\n",
    "\n",
    "Q = (np.sin(x1) + 1.0) * half_dac\n",
    "Q = np.round(Q)\n",
    "Q = np.clip(Q, 0, max_dac)\n",
    "Q = Q.astype(data_type)\n",
    "\n",
    "# build an interleaved signal for ONE mode\n",
    "# the signal will be in the length of 2xsegLen\n",
    "\n",
    "s1 = np.full((2*segLen1,1),0)\n",
    "for i in range(segLen1):\n",
    "    s1[0+i*2] = I[i]\n",
    "    s1[1+i*2] = Q[i]\n",
    "    \n",
    "s1 = s1.astype(data_type)"
   ]
  },
  {
   "cell_type": "code",
   "execution_count": 9,
   "metadata": {},
   "outputs": [],
   "source": [
    "# Build two AWG segment one for I and one for Q\n",
    "\n",
    "cycleLen = 512\n",
    "numCycles = 1\n",
    "segLen2 = cycleLen * numCycles\n",
    "\n",
    "# Build waveform (cosine wave)\n",
    "x2 = np.linspace(\n",
    "    start=0, stop=2 * np.pi * numCycles, num=segLen2, endpoint=False)\n",
    "\n",
    "I = (np.cos(x2) + 1.0) * half_dac\n",
    "I = np.round(I)\n",
    "I = np.clip(I, 0, max_dac)\n",
    "I = I.astype(data_type)\n",
    "\n",
    "# Build waveform (sine wave)\n",
    "\n",
    "\n",
    "Q = (np.sin(x2) + 1.0) * half_dac\n",
    "Q = np.round(Q)\n",
    "Q = np.clip(Q, 0, max_dac)\n",
    "Q = Q.astype(data_type)\n",
    "\n",
    "# build an interleaved signal for ONE mode\n",
    "# the signal will be in the length of 2xsegLen\n",
    "\n",
    "s2 = np.full((2*segLen2,1),0)\n",
    "for i in range(segLen2):\n",
    "    s2[0+i*2] = I[i]\n",
    "    s2[1+i*2] = Q[i]\n",
    "    \n",
    "s2 = s2.astype(data_type)"
   ]
  },
  {
   "cell_type": "code",
   "execution_count": 10,
   "metadata": {},
   "outputs": [],
   "source": [
    "# Build two AWG segment one for I and one for Q\n",
    "\n",
    "cycleLen = 256\n",
    "numCycles = 1\n",
    "segLen3 = cycleLen * numCycles\n",
    "\n",
    "# Build waveform (cosine wave)\n",
    "x3 = np.linspace(\n",
    "    start=0, stop=2 * np.pi * numCycles, num=segLen3, endpoint=False)\n",
    "\n",
    "I = (np.cos(x3) + 1.0) * half_dac\n",
    "I = np.round(I)\n",
    "I = np.clip(I, 0, max_dac)\n",
    "I = I.astype(data_type)\n",
    "\n",
    "# Build waveform (sine wave)\n",
    "\n",
    "\n",
    "Q = (np.sin(x3) + 1.0) * half_dac\n",
    "Q = np.round(Q)\n",
    "Q = np.clip(Q, 0, max_dac)\n",
    "Q = Q.astype(data_type)\n",
    "\n",
    "# build an interleaved signal for ONE mode\n",
    "# the signal will be in the length of 2xsegLen\n",
    "\n",
    "s3 = np.full((2*segLen3,1),0)\n",
    "for i in range(segLen3):\n",
    "    s3[0+i*2] = I[i]\n",
    "    s3[1+i*2] = Q[i]\n",
    "    \n",
    "s3 = s3.astype(data_type)"
   ]
  },
  {
   "cell_type": "code",
   "execution_count": 11,
   "metadata": {},
   "outputs": [],
   "source": [
    "# Build two AWG segment one for I and one for Q\n",
    "\n",
    "cycleLen = 128\n",
    "numCycles = 1\n",
    "segLen4 = cycleLen * numCycles\n",
    "\n",
    "# Build waveform (cosine wave)\n",
    "x4 = np.linspace(\n",
    "    start=0, stop=2 * np.pi * numCycles, num=segLen4, endpoint=False)\n",
    "\n",
    "I = (np.cos(x4) + 1.0) * half_dac\n",
    "I = np.round(I)\n",
    "I = np.clip(I, 0, max_dac)\n",
    "I = I.astype(data_type)\n",
    "\n",
    "# Build waveform (sine wave)\n",
    "\n",
    "\n",
    "Q = (np.sin(x4) + 1.0) * half_dac\n",
    "Q = np.round(Q)\n",
    "Q = np.clip(Q, 0, max_dac)\n",
    "Q = Q.astype(data_type)\n",
    "\n",
    "# build an interleaved signal for ONE mode\n",
    "# the signal will be in the length of 2xsegLen\n",
    "\n",
    "s4 = np.full((2*segLen4,1),0)\n",
    "for i in range(segLen4):\n",
    "    s4[0+i*2] = I[i]\n",
    "    s4[1+i*2] = Q[i]\n",
    "    \n",
    "s4 = s4.astype(data_type)"
   ]
  },
  {
   "cell_type": "markdown",
   "metadata": {},
   "source": [
    "#### Download signals"
   ]
  },
  {
   "cell_type": "code",
   "execution_count": 12,
   "metadata": {},
   "outputs": [
    {
     "name": "stdout",
     "output_type": "stream",
     "text": [
      "0, no error\n",
      "0, no error\n",
      "0, no error\n",
      "0, no error\n"
     ]
    }
   ],
   "source": [
    "# download signal to segment 1 channel 1\n",
    "inst.send_scpi_cmd(':INST:CHAN 1')\n",
    "inst.send_scpi_cmd(':TRAC:DEF 1,' + str(2*segLen1))\n",
    "inst.send_scpi_cmd(':TRAC:SEL 1')\n",
    "# download the waveform to the selected segment\n",
    "inst.write_binary_data(':TRAC:DATA', s1)\n",
    "resp = inst.send_scpi_query(':SYST:ERR?')\n",
    "print(resp)\n",
    "\n",
    "# download signal to segment 2 channel 2\n",
    "inst.send_scpi_cmd(':INST:CHAN 2')\n",
    "inst.send_scpi_cmd(':TRAC:DEF 2,' + str(2*segLen2))\n",
    "inst.send_scpi_cmd(':TRAC:SEL 2')\n",
    "# download the waveform to the selected segment\n",
    "inst.write_binary_data(':TRAC:DATA', s2)\n",
    "resp = inst.send_scpi_query(':SYST:ERR?')\n",
    "print(resp)\n",
    "\n",
    "# download signal to segment 1 channel 3\n",
    "inst.send_scpi_cmd(':INST:CHAN 3')\n",
    "inst.send_scpi_cmd(':TRAC:DEF 1,' + str(2*segLen3))\n",
    "inst.send_scpi_cmd(':TRAC:SEL 1')\n",
    "# download the waveform to the selected segment\n",
    "inst.write_binary_data(':TRAC:DATA', s3)\n",
    "resp = inst.send_scpi_query(':SYST:ERR?')\n",
    "print(resp)\n",
    "\n",
    "# download signal to segment 2 channel 4\n",
    "inst.send_scpi_cmd(':INST:CHAN 4')\n",
    "inst.send_scpi_cmd(':TRAC:DEF 2,' + str(2*segLen4))\n",
    "inst.send_scpi_cmd(':TRAC:SEL 2')\n",
    "# download the waveform to the selected segment\n",
    "inst.write_binary_data(':TRAC:DATA', s4)\n",
    "resp = inst.send_scpi_query(':SYST:ERR?')\n",
    "print(resp)\n"
   ]
  },
  {
   "cell_type": "markdown",
   "metadata": {},
   "source": [
    "#### DAC clock and output"
   ]
  },
  {
   "cell_type": "code",
   "execution_count": 13,
   "metadata": {},
   "outputs": [
    {
     "name": "stdout",
     "output_type": "stream",
     "text": [
      "0, no error\n",
      "0, no error\n",
      "0, no error\n",
      "0, no error\n",
      "0, no error\n"
     ]
    }
   ],
   "source": [
    "# AWG Channl 1 (output) should be connected to scope input 1\n",
    "inst.send_scpi_cmd(':INST:CHAN 1')\n",
    "inst.send_scpi_cmd(':SOUR:FUNC:MODE:SEGM 1')\n",
    "inst.send_scpi_cmd(':OUTP ON')\n",
    "resp = inst.send_scpi_query(':SYST:ERR?')\n",
    "print(resp)\n",
    "\n",
    "# AWG Channl 2 (output) should be connected to scope input 2\n",
    "inst.send_scpi_cmd(':INST:CHAN 2')\n",
    "inst.send_scpi_cmd(':SOUR:FUNC:MODE:SEGM 2')\n",
    "inst.send_scpi_cmd(':OUTP ON')\n",
    "resp = inst.send_scpi_query(':SYST:ERR?')\n",
    "print(resp)\n",
    "\n",
    "# AWG Channl 3 (output) should be connected to scope input 3\n",
    "inst.send_scpi_cmd(':INST:CHAN 3')\n",
    "inst.send_scpi_cmd(':SOUR:FUNC:MODE:SEGM 1')\n",
    "inst.send_scpi_cmd(':OUTP ON')\n",
    "resp = inst.send_scpi_query(':SYST:ERR?')\n",
    "print(resp)\n",
    "\n",
    "# AWG Channl 4 (output) should be connected to scope input 4\n",
    "inst.send_scpi_cmd(':INST:CHAN 4')\n",
    "inst.send_scpi_cmd(':SOUR:FUNC:MODE:SEGM 2')\n",
    "inst.send_scpi_cmd(':OUTP ON')\n",
    "resp = inst.send_scpi_query(':SYST:ERR?')\n",
    "print(resp)\n",
    "\n",
    "# chande DAC clock to 2500MHz\n",
    "inst.send_scpi_cmd(':SOUR:FREQ 2.5e9')\n",
    "resp = inst.send_scpi_query(':SYST:ERR?')\n",
    "print(resp)"
   ]
  },
  {
   "cell_type": "markdown",
   "metadata": {},
   "source": [
    "#### at this point we should see a sin wave and a cos wave on the scope\n",
    "\n",
    "#### switching to modulation mode"
   ]
  },
  {
   "cell_type": "code",
   "execution_count": 14,
   "metadata": {},
   "outputs": [
    {
     "name": "stdout",
     "output_type": "stream",
     "text": [
      "0, no error\n",
      "0, no error\n",
      "0, no error\n",
      "0, no error\n",
      "0, no error\n",
      "0, no error\n",
      "0, no error\n"
     ]
    }
   ],
   "source": [
    "# set Proteus to interpolation X8.\n",
    "inst.send_scpi_cmd(':SOUR:INT ' + str(Interpolation))\n",
    "resp = inst.send_scpi_query(':SYST:ERR?')\n",
    "print(resp)\n",
    "\n",
    "# set NCOab frequency of CH1\n",
    "inst.send_scpi_cmd(':INST:CHAN 1')\n",
    "inst.send_scpi_cmd(':SOUR:CFR 100.0e6')\n",
    "resp = inst.send_scpi_query(':SYST:ERR?')\n",
    "print(resp)\n",
    "\n",
    "# set NCOab frequency of CH2\n",
    "inst.send_scpi_cmd(':INST:CHAN 2')\n",
    "inst.send_scpi_cmd(':SOUR:CFR 120.0e6')\n",
    "resp = inst.send_scpi_query(':SYST:ERR?')\n",
    "print(resp)\n",
    "\n",
    "# set NCOab frequency of CH3\n",
    "inst.send_scpi_cmd(':INST:CHAN 3')\n",
    "inst.send_scpi_cmd(':SOUR:CFR 130.0e6')\n",
    "resp = inst.send_scpi_query(':SYST:ERR?')\n",
    "print(resp)\n",
    "\n",
    "# set NCOab frequency of CH4\n",
    "inst.send_scpi_cmd(':INST:CHAN 4')\n",
    "inst.send_scpi_cmd(':SOUR:CFR 140.0e6')\n",
    "resp = inst.send_scpi_query(':SYST:ERR?')\n",
    "print(resp)\n",
    "\n",
    "# set modulation to ONE\n",
    "inst.send_scpi_cmd(':SOUR:IQM ONE')\n",
    "resp = inst.send_scpi_query(':SYST:ERR?')\n",
    "print(resp)\n",
    "\n",
    "# chande DAC clock to 9000Hz\n",
    "inst.send_scpi_cmd(':SOUR:FREQ ' + str(maxRate))\n",
    "resp = inst.send_scpi_query(':SYST:ERR?')\n",
    "print(resp)\n"
   ]
  },
  {
   "cell_type": "code",
   "execution_count": 15,
   "metadata": {},
   "outputs": [
    {
     "data": {
      "text/plain": [
       "0"
      ]
     },
     "execution_count": 15,
     "metadata": {},
     "output_type": "execute_result"
    }
   ],
   "source": [
    "inst.send_scpi_cmd(':INST:CHAN 1', paranoia_level=0)"
   ]
  },
  {
   "cell_type": "markdown",
   "metadata": {},
   "source": [
    "## read debug registers"
   ]
  },
  {
   "cell_type": "code",
   "execution_count": 16,
   "metadata": {},
   "outputs": [],
   "source": [
    "import tempfile\n",
    "import webbrowser\n",
    "\n",
    "if Debug == True :\n",
    "    channb = 1\n",
    "    cmd = ':INST:CHAN {0}; :SYST:INF:REG?'.format(channb)\n",
    "    html_str = inst.send_scpi_query(cmd, max_resp_len=200000)\n",
    "    #print(html_str)\n",
    "    with tempfile.NamedTemporaryFile('w', delete=False, suffix='.html') as f:\n",
    "        url = 'file://' + f.name\n",
    "        f.write(html_str)\n",
    "    webbrowser.open(url)"
   ]
  },
  {
   "cell_type": "markdown",
   "metadata": {},
   "source": [
    "## End"
   ]
  },
  {
   "cell_type": "code",
   "execution_count": 17,
   "metadata": {},
   "outputs": [
    {
     "data": {
      "text/plain": [
       "0"
      ]
     },
     "execution_count": 17,
     "metadata": {},
     "output_type": "execute_result"
    }
   ],
   "source": [
    "# close connection\n",
    "inst.close_instrument()\n",
    "admin.close_inst_admin()"
   ]
  },
  {
   "cell_type": "code",
   "execution_count": null,
   "metadata": {},
   "outputs": [],
   "source": []
  }
 ],
 "metadata": {
  "kernelspec": {
   "display_name": "Python 3",
   "language": "python",
   "name": "python3"
  },
  "language_info": {
   "codemirror_mode": {
    "name": "ipython",
    "version": 3
   },
   "file_extension": ".py",
   "mimetype": "text/x-python",
   "name": "python",
   "nbconvert_exporter": "python",
   "pygments_lexer": "ipython3",
   "version": "3.8.5"
  }
 },
 "nbformat": 4,
 "nbformat_minor": 2
}
